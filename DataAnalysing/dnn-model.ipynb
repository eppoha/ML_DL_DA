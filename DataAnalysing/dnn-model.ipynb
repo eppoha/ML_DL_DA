{
 "cells": [
  {
   "cell_type": "markdown",
   "id": "3f20d451",
   "metadata": {
    "papermill": {
     "duration": 0.037072,
     "end_time": "2022-07-05T17:21:44.317088",
     "exception": false,
     "start_time": "2022-07-05T17:21:44.280016",
     "status": "completed"
    },
    "tags": []
   },
   "source": [
    "# Import required libraries"
   ]
  },
  {
   "cell_type": "code",
   "execution_count": 1,
   "id": "195c218c",
   "metadata": {
    "execution": {
     "iopub.execute_input": "2022-07-05T17:21:44.396648Z",
     "iopub.status.busy": "2022-07-05T17:21:44.395948Z",
     "iopub.status.idle": "2022-07-05T17:21:51.839991Z",
     "shell.execute_reply": "2022-07-05T17:21:51.840515Z",
     "shell.execute_reply.started": "2022-05-08T22:32:24.768243Z"
    },
    "papermill": {
     "duration": 7.490043,
     "end_time": "2022-07-05T17:21:51.840850",
     "exception": false,
     "start_time": "2022-07-05T17:21:44.350807",
     "status": "completed"
    },
    "tags": []
   },
   "outputs": [],
   "source": [
    "import numpy as np\n",
    "import pandas as pd\n",
    "import tensorflow as tf\n",
    "from tensorflow.keras import layers\n",
    "from tensorflow import keras\n",
    "from tensorflow.keras.layers import BatchNormalization\n",
    "from keras.models import Sequential, Model\n",
    "from keras.layers import Input, Embedding, Dense, Flatten, Concatenate, Reshape\n",
    "from keras import backend as K\n",
    "from keras import regularizers \n",
    "from tensorflow.keras.optimizers import Adam\n",
    "from keras.callbacks import EarlyStopping, ModelCheckpoint\n",
    "from keras.regularizers import l2\n",
    "from tensorflow.keras.losses import Loss"
   ]
  },
  {
   "cell_type": "markdown",
   "id": "f2691f32",
   "metadata": {
    "papermill": {
     "duration": 0.03302,
     "end_time": "2022-07-05T17:21:51.909805",
     "exception": false,
     "start_time": "2022-07-05T17:21:51.876785",
     "status": "completed"
    },
    "tags": []
   },
   "source": [
    "# Load Dataset"
   ]
  },
  {
   "cell_type": "code",
   "execution_count": 2,
   "id": "afb74db3",
   "metadata": {
    "execution": {
     "iopub.execute_input": "2022-07-05T17:21:51.979828Z",
     "iopub.status.busy": "2022-07-05T17:21:51.979133Z",
     "iopub.status.idle": "2022-07-05T17:21:58.991017Z",
     "shell.execute_reply": "2022-07-05T17:21:58.991524Z",
     "shell.execute_reply.started": "2022-05-08T22:32:24.810535Z"
    },
    "papermill": {
     "duration": 7.048613,
     "end_time": "2022-07-05T17:21:58.991727",
     "exception": false,
     "start_time": "2022-07-05T17:21:51.943114",
     "status": "completed"
    },
    "tags": []
   },
   "outputs": [],
   "source": [
    "stock_price_df = pd.read_csv(\"../input/jpx-tokyo-stock-exchange-prediction/train_files/stock_prices.csv\")"
   ]
  },
  {
   "cell_type": "markdown",
   "id": "0a83d9e8",
   "metadata": {
    "papermill": {
     "duration": 0.033494,
     "end_time": "2022-07-05T17:21:59.059798",
     "exception": false,
     "start_time": "2022-07-05T17:21:59.026304",
     "status": "completed"
    },
    "tags": []
   },
   "source": [
    "# A glance at the data"
   ]
  },
  {
   "cell_type": "code",
   "execution_count": 3,
   "id": "271998f5",
   "metadata": {
    "execution": {
     "iopub.execute_input": "2022-07-05T17:21:59.133286Z",
     "iopub.status.busy": "2022-07-05T17:21:59.132626Z",
     "iopub.status.idle": "2022-07-05T17:21:59.165393Z",
     "shell.execute_reply": "2022-07-05T17:21:59.166542Z",
     "shell.execute_reply.started": "2022-05-08T22:32:31.156313Z"
    },
    "papermill": {
     "duration": 0.072469,
     "end_time": "2022-07-05T17:21:59.166832",
     "exception": false,
     "start_time": "2022-07-05T17:21:59.094363",
     "status": "completed"
    },
    "tags": []
   },
   "outputs": [
    {
     "name": "stdout",
     "output_type": "stream",
     "text": [
      "(rows, columns) = (2332531, 12)\n"
     ]
    },
    {
     "data": {
      "text/html": [
       "<div>\n",
       "<style scoped>\n",
       "    .dataframe tbody tr th:only-of-type {\n",
       "        vertical-align: middle;\n",
       "    }\n",
       "\n",
       "    .dataframe tbody tr th {\n",
       "        vertical-align: top;\n",
       "    }\n",
       "\n",
       "    .dataframe thead th {\n",
       "        text-align: right;\n",
       "    }\n",
       "</style>\n",
       "<table border=\"1\" class=\"dataframe\">\n",
       "  <thead>\n",
       "    <tr style=\"text-align: right;\">\n",
       "      <th></th>\n",
       "      <th>RowId</th>\n",
       "      <th>Date</th>\n",
       "      <th>SecuritiesCode</th>\n",
       "      <th>Open</th>\n",
       "      <th>High</th>\n",
       "      <th>Low</th>\n",
       "      <th>Close</th>\n",
       "      <th>Volume</th>\n",
       "      <th>AdjustmentFactor</th>\n",
       "      <th>ExpectedDividend</th>\n",
       "      <th>SupervisionFlag</th>\n",
       "      <th>Target</th>\n",
       "    </tr>\n",
       "  </thead>\n",
       "  <tbody>\n",
       "    <tr>\n",
       "      <th>2332526</th>\n",
       "      <td>20211203_9990</td>\n",
       "      <td>2021-12-03</td>\n",
       "      <td>9990</td>\n",
       "      <td>514.0</td>\n",
       "      <td>528.0</td>\n",
       "      <td>513.0</td>\n",
       "      <td>528.0</td>\n",
       "      <td>44200</td>\n",
       "      <td>1.0</td>\n",
       "      <td>NaN</td>\n",
       "      <td>False</td>\n",
       "      <td>0.034816</td>\n",
       "    </tr>\n",
       "    <tr>\n",
       "      <th>2332527</th>\n",
       "      <td>20211203_9991</td>\n",
       "      <td>2021-12-03</td>\n",
       "      <td>9991</td>\n",
       "      <td>782.0</td>\n",
       "      <td>794.0</td>\n",
       "      <td>782.0</td>\n",
       "      <td>794.0</td>\n",
       "      <td>35900</td>\n",
       "      <td>1.0</td>\n",
       "      <td>NaN</td>\n",
       "      <td>False</td>\n",
       "      <td>0.025478</td>\n",
       "    </tr>\n",
       "    <tr>\n",
       "      <th>2332528</th>\n",
       "      <td>20211203_9993</td>\n",
       "      <td>2021-12-03</td>\n",
       "      <td>9993</td>\n",
       "      <td>1690.0</td>\n",
       "      <td>1690.0</td>\n",
       "      <td>1645.0</td>\n",
       "      <td>1645.0</td>\n",
       "      <td>7200</td>\n",
       "      <td>1.0</td>\n",
       "      <td>NaN</td>\n",
       "      <td>False</td>\n",
       "      <td>-0.004302</td>\n",
       "    </tr>\n",
       "    <tr>\n",
       "      <th>2332529</th>\n",
       "      <td>20211203_9994</td>\n",
       "      <td>2021-12-03</td>\n",
       "      <td>9994</td>\n",
       "      <td>2388.0</td>\n",
       "      <td>2396.0</td>\n",
       "      <td>2380.0</td>\n",
       "      <td>2389.0</td>\n",
       "      <td>6500</td>\n",
       "      <td>1.0</td>\n",
       "      <td>NaN</td>\n",
       "      <td>False</td>\n",
       "      <td>0.009098</td>\n",
       "    </tr>\n",
       "    <tr>\n",
       "      <th>2332530</th>\n",
       "      <td>20211203_9997</td>\n",
       "      <td>2021-12-03</td>\n",
       "      <td>9997</td>\n",
       "      <td>690.0</td>\n",
       "      <td>711.0</td>\n",
       "      <td>686.0</td>\n",
       "      <td>696.0</td>\n",
       "      <td>381100</td>\n",
       "      <td>1.0</td>\n",
       "      <td>NaN</td>\n",
       "      <td>False</td>\n",
       "      <td>0.018414</td>\n",
       "    </tr>\n",
       "  </tbody>\n",
       "</table>\n",
       "</div>"
      ],
      "text/plain": [
       "                 RowId        Date  SecuritiesCode    Open    High     Low  \\\n",
       "2332526  20211203_9990  2021-12-03            9990   514.0   528.0   513.0   \n",
       "2332527  20211203_9991  2021-12-03            9991   782.0   794.0   782.0   \n",
       "2332528  20211203_9993  2021-12-03            9993  1690.0  1690.0  1645.0   \n",
       "2332529  20211203_9994  2021-12-03            9994  2388.0  2396.0  2380.0   \n",
       "2332530  20211203_9997  2021-12-03            9997   690.0   711.0   686.0   \n",
       "\n",
       "          Close  Volume  AdjustmentFactor  ExpectedDividend  SupervisionFlag  \\\n",
       "2332526   528.0   44200               1.0               NaN            False   \n",
       "2332527   794.0   35900               1.0               NaN            False   \n",
       "2332528  1645.0    7200               1.0               NaN            False   \n",
       "2332529  2389.0    6500               1.0               NaN            False   \n",
       "2332530   696.0  381100               1.0               NaN            False   \n",
       "\n",
       "           Target  \n",
       "2332526  0.034816  \n",
       "2332527  0.025478  \n",
       "2332528 -0.004302  \n",
       "2332529  0.009098  \n",
       "2332530  0.018414  "
      ]
     },
     "execution_count": 3,
     "metadata": {},
     "output_type": "execute_result"
    }
   ],
   "source": [
    "print('(rows, columns) =', stock_price_df.shape)\n",
    "stock_price_df.tail()"
   ]
  },
  {
   "cell_type": "code",
   "execution_count": 4,
   "id": "3be3d9a6",
   "metadata": {
    "execution": {
     "iopub.execute_input": "2022-07-05T17:21:59.245605Z",
     "iopub.status.busy": "2022-07-05T17:21:59.244915Z",
     "iopub.status.idle": "2022-07-05T17:21:59.948740Z",
     "shell.execute_reply": "2022-07-05T17:21:59.948175Z",
     "shell.execute_reply.started": "2022-05-08T22:32:31.187882Z"
    },
    "papermill": {
     "duration": 0.746114,
     "end_time": "2022-07-05T17:21:59.948942",
     "exception": false,
     "start_time": "2022-07-05T17:21:59.202828",
     "status": "completed"
    },
    "tags": []
   },
   "outputs": [
    {
     "name": "stdout",
     "output_type": "stream",
     "text": [
      "<class 'pandas.core.frame.DataFrame'>\n",
      "RangeIndex: 2332531 entries, 0 to 2332530\n",
      "Data columns (total 12 columns):\n",
      " #   Column            Dtype         \n",
      "---  ------            -----         \n",
      " 0   RowId             object        \n",
      " 1   Date              datetime64[ns]\n",
      " 2   SecuritiesCode    int64         \n",
      " 3   Open              float64       \n",
      " 4   High              float64       \n",
      " 5   Low               float64       \n",
      " 6   Close             float64       \n",
      " 7   Volume            int64         \n",
      " 8   AdjustmentFactor  float64       \n",
      " 9   ExpectedDividend  float64       \n",
      " 10  SupervisionFlag   int64         \n",
      " 11  Target            float64       \n",
      "dtypes: datetime64[ns](1), float64(7), int64(3), object(1)\n",
      "memory usage: 213.5+ MB\n"
     ]
    }
   ],
   "source": [
    "stock_price_df['ExpectedDividend'] = stock_price_df['ExpectedDividend'].fillna(0)\n",
    "stock_price_df['SupervisionFlag'] = stock_price_df['SupervisionFlag'].map({True: 1, False: 0})\n",
    "stock_price_df['Date'] = pd.to_datetime(stock_price_df['Date'])\n",
    "stock_price_df.info()"
   ]
  },
  {
   "cell_type": "markdown",
   "id": "f838d9e1",
   "metadata": {
    "papermill": {
     "duration": 0.038324,
     "end_time": "2022-07-05T17:22:00.024417",
     "exception": false,
     "start_time": "2022-07-05T17:21:59.986093",
     "status": "completed"
    },
    "tags": []
   },
   "source": [
    "# Import stock list\n"
   ]
  },
  {
   "cell_type": "code",
   "execution_count": 5,
   "id": "5e274307",
   "metadata": {
    "execution": {
     "iopub.execute_input": "2022-07-05T17:22:00.100811Z",
     "iopub.status.busy": "2022-07-05T17:22:00.098706Z",
     "iopub.status.idle": "2022-07-05T17:22:00.132356Z",
     "shell.execute_reply": "2022-07-05T17:22:00.132994Z",
     "shell.execute_reply.started": "2022-05-08T22:32:32.15911Z"
    },
    "papermill": {
     "duration": 0.073684,
     "end_time": "2022-07-05T17:22:00.133197",
     "exception": false,
     "start_time": "2022-07-05T17:22:00.059513",
     "status": "completed"
    },
    "tags": []
   },
   "outputs": [],
   "source": [
    "stock_list = pd.read_csv(\"../input/jpx-tokyo-stock-exchange-prediction/stock_list.csv\")"
   ]
  },
  {
   "cell_type": "code",
   "execution_count": 6,
   "id": "bdb8d754",
   "metadata": {
    "execution": {
     "iopub.execute_input": "2022-07-05T17:22:00.208237Z",
     "iopub.status.busy": "2022-07-05T17:22:00.207455Z",
     "iopub.status.idle": "2022-07-05T17:22:00.240823Z",
     "shell.execute_reply": "2022-07-05T17:22:00.240291Z",
     "shell.execute_reply.started": "2022-05-08T22:32:32.189064Z"
    },
    "papermill": {
     "duration": 0.071792,
     "end_time": "2022-07-05T17:22:00.240987",
     "exception": false,
     "start_time": "2022-07-05T17:22:00.169195",
     "status": "completed"
    },
    "tags": []
   },
   "outputs": [
    {
     "data": {
      "text/html": [
       "<div>\n",
       "<style scoped>\n",
       "    .dataframe tbody tr th:only-of-type {\n",
       "        vertical-align: middle;\n",
       "    }\n",
       "\n",
       "    .dataframe tbody tr th {\n",
       "        vertical-align: top;\n",
       "    }\n",
       "\n",
       "    .dataframe thead th {\n",
       "        text-align: right;\n",
       "    }\n",
       "</style>\n",
       "<table border=\"1\" class=\"dataframe\">\n",
       "  <thead>\n",
       "    <tr style=\"text-align: right;\">\n",
       "      <th></th>\n",
       "      <th>SecuritiesCode</th>\n",
       "      <th>NewMarketSegment</th>\n",
       "      <th>33SectorCode</th>\n",
       "      <th>17SectorCode</th>\n",
       "      <th>Universe0</th>\n",
       "      <th>Section/Products</th>\n",
       "      <th>NewIndexSeriesSize</th>\n",
       "    </tr>\n",
       "  </thead>\n",
       "  <tbody>\n",
       "    <tr>\n",
       "      <th>0</th>\n",
       "      <td>1301</td>\n",
       "      <td>Prime Market</td>\n",
       "      <td>50</td>\n",
       "      <td>1</td>\n",
       "      <td>1</td>\n",
       "      <td>First Section (Domestic)</td>\n",
       "      <td>TOPIX Small 2</td>\n",
       "    </tr>\n",
       "    <tr>\n",
       "      <th>1</th>\n",
       "      <td>1305</td>\n",
       "      <td>-</td>\n",
       "      <td>-</td>\n",
       "      <td>-</td>\n",
       "      <td>0</td>\n",
       "      <td>ETFs/ ETNs</td>\n",
       "      <td>-</td>\n",
       "    </tr>\n",
       "    <tr>\n",
       "      <th>2</th>\n",
       "      <td>1306</td>\n",
       "      <td>-</td>\n",
       "      <td>-</td>\n",
       "      <td>-</td>\n",
       "      <td>0</td>\n",
       "      <td>ETFs/ ETNs</td>\n",
       "      <td>-</td>\n",
       "    </tr>\n",
       "    <tr>\n",
       "      <th>3</th>\n",
       "      <td>1308</td>\n",
       "      <td>-</td>\n",
       "      <td>-</td>\n",
       "      <td>-</td>\n",
       "      <td>0</td>\n",
       "      <td>ETFs/ ETNs</td>\n",
       "      <td>-</td>\n",
       "    </tr>\n",
       "    <tr>\n",
       "      <th>4</th>\n",
       "      <td>1309</td>\n",
       "      <td>-</td>\n",
       "      <td>-</td>\n",
       "      <td>-</td>\n",
       "      <td>0</td>\n",
       "      <td>ETFs/ ETNs</td>\n",
       "      <td>-</td>\n",
       "    </tr>\n",
       "    <tr>\n",
       "      <th>...</th>\n",
       "      <td>...</td>\n",
       "      <td>...</td>\n",
       "      <td>...</td>\n",
       "      <td>...</td>\n",
       "      <td>...</td>\n",
       "      <td>...</td>\n",
       "      <td>...</td>\n",
       "    </tr>\n",
       "    <tr>\n",
       "      <th>4412</th>\n",
       "      <td>9994</td>\n",
       "      <td>Standard Market</td>\n",
       "      <td>6100</td>\n",
       "      <td>14</td>\n",
       "      <td>1</td>\n",
       "      <td>First Section (Domestic)</td>\n",
       "      <td>TOPIX Small 2</td>\n",
       "    </tr>\n",
       "    <tr>\n",
       "      <th>4413</th>\n",
       "      <td>9995</td>\n",
       "      <td>Prime Market</td>\n",
       "      <td>6050</td>\n",
       "      <td>13</td>\n",
       "      <td>0</td>\n",
       "      <td>First Section (Domestic)</td>\n",
       "      <td>TOPIX Small 2</td>\n",
       "    </tr>\n",
       "    <tr>\n",
       "      <th>4414</th>\n",
       "      <td>9996</td>\n",
       "      <td>Standard Market</td>\n",
       "      <td>6050</td>\n",
       "      <td>13</td>\n",
       "      <td>0</td>\n",
       "      <td>JASDAQ(Standard / Domestic)</td>\n",
       "      <td>-</td>\n",
       "    </tr>\n",
       "    <tr>\n",
       "      <th>4415</th>\n",
       "      <td>9997</td>\n",
       "      <td>Prime Market</td>\n",
       "      <td>6100</td>\n",
       "      <td>14</td>\n",
       "      <td>1</td>\n",
       "      <td>First Section (Domestic)</td>\n",
       "      <td>TOPIX Small 1</td>\n",
       "    </tr>\n",
       "    <tr>\n",
       "      <th>4416</th>\n",
       "      <td>25935</td>\n",
       "      <td>-</td>\n",
       "      <td>3050</td>\n",
       "      <td>1</td>\n",
       "      <td>0</td>\n",
       "      <td>First Section (Domestic)</td>\n",
       "      <td>-</td>\n",
       "    </tr>\n",
       "  </tbody>\n",
       "</table>\n",
       "<p>4417 rows × 7 columns</p>\n",
       "</div>"
      ],
      "text/plain": [
       "      SecuritiesCode NewMarketSegment 33SectorCode 17SectorCode  Universe0  \\\n",
       "0               1301     Prime Market           50            1          1   \n",
       "1               1305                -            -            -          0   \n",
       "2               1306                -            -            -          0   \n",
       "3               1308                -            -            -          0   \n",
       "4               1309                -            -            -          0   \n",
       "...              ...              ...          ...          ...        ...   \n",
       "4412            9994  Standard Market         6100           14          1   \n",
       "4413            9995     Prime Market         6050           13          0   \n",
       "4414            9996  Standard Market         6050           13          0   \n",
       "4415            9997     Prime Market         6100           14          1   \n",
       "4416           25935                -         3050            1          0   \n",
       "\n",
       "                 Section/Products NewIndexSeriesSize  \n",
       "0        First Section (Domestic)      TOPIX Small 2  \n",
       "1                      ETFs/ ETNs                  -  \n",
       "2                      ETFs/ ETNs                  -  \n",
       "3                      ETFs/ ETNs                  -  \n",
       "4                      ETFs/ ETNs                  -  \n",
       "...                           ...                ...  \n",
       "4412     First Section (Domestic)      TOPIX Small 2  \n",
       "4413     First Section (Domestic)      TOPIX Small 2  \n",
       "4414  JASDAQ(Standard / Domestic)                  -  \n",
       "4415     First Section (Domestic)      TOPIX Small 1  \n",
       "4416     First Section (Domestic)                  -  \n",
       "\n",
       "[4417 rows x 7 columns]"
      ]
     },
     "execution_count": 6,
     "metadata": {},
     "output_type": "execute_result"
    }
   ],
   "source": [
    "stock_list = stock_list[['SecuritiesCode','NewMarketSegment','33SectorCode','17SectorCode','Universe0','Section/Products','NewIndexSeriesSize']]\n",
    "stock_list = stock_list.replace(np.nan,'-')\n",
    "stock_list['Universe0'] = np.where(stock_list['Universe0'], 1, 0)\n",
    "stock_list = stock_list.drop_duplicates()\n",
    "stock_list"
   ]
  },
  {
   "cell_type": "markdown",
   "id": "e1beeeca",
   "metadata": {
    "papermill": {
     "duration": 0.036563,
     "end_time": "2022-07-05T17:22:00.313164",
     "exception": false,
     "start_time": "2022-07-05T17:22:00.276601",
     "status": "completed"
    },
    "tags": []
   },
   "source": [
    "# Some Feature Engineering"
   ]
  },
  {
   "cell_type": "code",
   "execution_count": 7,
   "id": "9c0f5fd1",
   "metadata": {
    "execution": {
     "iopub.execute_input": "2022-07-05T17:22:00.388765Z",
     "iopub.status.busy": "2022-07-05T17:22:00.388081Z",
     "iopub.status.idle": "2022-07-05T17:22:05.235272Z",
     "shell.execute_reply": "2022-07-05T17:22:05.234687Z",
     "shell.execute_reply.started": "2022-05-08T22:32:32.224827Z"
    },
    "papermill": {
     "duration": 4.885389,
     "end_time": "2022-07-05T17:22:05.235431",
     "exception": false,
     "start_time": "2022-07-05T17:22:00.350042",
     "status": "completed"
    },
    "tags": []
   },
   "outputs": [],
   "source": [
    "# 计算特征\n",
    "def FE(stock_price_df):\n",
    "    stock_price_df['BOP'] = (stock_price_df['Open']-stock_price_df['Close'])/(stock_price_df['High']-stock_price_df['Low'])\n",
    "    stock_price_df['wp'] = (stock_price_df['Open']+stock_price_df['High']+stock_price_df['Low'])/3\n",
    "    stock_price_df['TR'] = stock_price_df['High'] - stock_price_df['Low']\n",
    "    # stock_price_df['AD'] = ta.AD(High, Low, Close, Volume)\n",
    "    # stock_price_df['OBV']  = ta.OBV(Close, Volume)\n",
    "    stock_price_df['OC'] = stock_price_df['Open'] * stock_price_df['Close']\n",
    "    stock_price_df['HL'] = stock_price_df['High'] * stock_price_df['Low']\n",
    "    stock_price_df['logC'] = np.log(stock_price_df['Close']+1)\n",
    "    stock_price_df['OHLCstd'] = stock_price_df[['Open','Close','High','Low']].std(axis=1)\n",
    "    stock_price_df['OHLCskew'] = stock_price_df[['Open','Close','High','Low']].skew(axis=1)\n",
    "    stock_price_df['OHLCkur'] = stock_price_df[['Open','Close','High','Low']].kurtosis(axis=1)\n",
    "    stock_price_df['Cpos'] = (stock_price_df['Close']-stock_price_df['Low'])/(stock_price_df['High']-stock_price_df['Low']) -0.5\n",
    "    stock_price_df['bsforce'] = stock_price_df['Cpos'] * stock_price_df['Volume']\n",
    "    stock_price_df['Opos'] = (stock_price_df['Open']-stock_price_df['Low'])/(stock_price_df['High']-stock_price_df['Low']) -0.5\n",
    "    stock_price_df['Date'] = pd.to_datetime(stock_price_df['Date'])\n",
    "    stock_price_df['weekday'] = stock_price_df['Date'].dt.weekday+1\n",
    "    stock_price_df['Monday'] = np.where(stock_price_df['weekday']==1,1,0)\n",
    "    stock_price_df['Tuesday'] = np.where(stock_price_df['weekday']==2,1,0)\n",
    "    stock_price_df['Wednesday'] = np.where(stock_price_df['weekday']==3,1,0)\n",
    "    stock_price_df['Thursday'] = np.where(stock_price_df['weekday']==4,1,0)\n",
    "    stock_price_df['Friday'] = np.where(stock_price_df['weekday']==5,1,0)\n",
    "    return stock_price_df\n",
    "stock_price_df = FE(stock_price_df)\n",
    "stock_price_df = pd.merge(stock_price_df,stock_list, on='SecuritiesCode')"
   ]
  },
  {
   "cell_type": "code",
   "execution_count": 8,
   "id": "322f9bd6",
   "metadata": {
    "execution": {
     "iopub.execute_input": "2022-07-05T17:22:05.313267Z",
     "iopub.status.busy": "2022-07-05T17:22:05.312255Z",
     "iopub.status.idle": "2022-07-05T17:22:05.317209Z",
     "shell.execute_reply": "2022-07-05T17:22:05.317984Z",
     "shell.execute_reply.started": "2022-05-08T22:32:35.92954Z"
    },
    "papermill": {
     "duration": 0.045796,
     "end_time": "2022-07-05T17:22:05.318185",
     "exception": false,
     "start_time": "2022-07-05T17:22:05.272389",
     "status": "completed"
    },
    "tags": []
   },
   "outputs": [],
   "source": [
    "subf = ['Open', 'High', 'Low', 'Close',\n",
    "       'Volume', 'ExpectedDividend',\n",
    "       'SupervisionFlag', 'BOP', 'wp', 'TR', 'OC', 'HL', 'logC',\n",
    "       'OHLCstd', 'OHLCskew', 'OHLCkur', 'Cpos', 'bsforce', 'Opos']"
   ]
  },
  {
   "cell_type": "markdown",
   "id": "92321729",
   "metadata": {
    "papermill": {
     "duration": 0.036023,
     "end_time": "2022-07-05T17:22:05.390183",
     "exception": false,
     "start_time": "2022-07-05T17:22:05.354160",
     "status": "completed"
    },
    "tags": []
   },
   "source": [
    "# standardize features according to daily stock data (at the same day only)"
   ]
  },
  {
   "cell_type": "code",
   "execution_count": 9,
   "id": "59ff2546",
   "metadata": {
    "execution": {
     "iopub.execute_input": "2022-07-05T17:22:05.464549Z",
     "iopub.status.busy": "2022-07-05T17:22:05.463543Z",
     "iopub.status.idle": "2022-07-05T17:22:05.471497Z",
     "shell.execute_reply": "2022-07-05T17:22:05.472039Z",
     "shell.execute_reply.started": "2022-05-08T22:32:35.935411Z"
    },
    "papermill": {
     "duration": 0.046939,
     "end_time": "2022-07-05T17:22:05.472220",
     "exception": false,
     "start_time": "2022-07-05T17:22:05.425281",
     "status": "completed"
    },
    "tags": []
   },
   "outputs": [],
   "source": [
    "# 按天分组进行计算\n",
    "def daily_standardize(df,col):\n",
    "    avg = df[[col,'Date']].groupby('Date').mean()\n",
    "    avg.columns = ['avg']\n",
    "    avg['Date'] = avg.index\n",
    "    avg = avg.reset_index(drop=True)\n",
    "    std = df[[col,'Date']].groupby('Date').std()\n",
    "    std.columns = ['std']\n",
    "    std['Date'] = std.index\n",
    "    std = std.reset_index(drop=True)\n",
    "    df = pd.merge(df, avg, on='Date')\n",
    "    df = pd.merge(df,std,on='Date')\n",
    "    df[col] = (df[col] - df['avg'])/df['std']\n",
    "    df = df.drop(['avg','std'],axis=1)\n",
    "    df[col] = df[col].fillna(0)\n",
    "    return df"
   ]
  },
  {
   "cell_type": "code",
   "execution_count": 10,
   "id": "872a51c1",
   "metadata": {
    "execution": {
     "iopub.execute_input": "2022-07-05T17:22:05.547421Z",
     "iopub.status.busy": "2022-07-05T17:22:05.546368Z",
     "iopub.status.idle": "2022-07-05T17:22:06.273677Z",
     "shell.execute_reply": "2022-07-05T17:22:06.272958Z",
     "shell.execute_reply.started": "2022-05-08T22:32:35.951926Z"
    },
    "papermill": {
     "duration": 0.766346,
     "end_time": "2022-07-05T17:22:06.273828",
     "exception": false,
     "start_time": "2022-07-05T17:22:05.507482",
     "status": "completed"
    },
    "tags": []
   },
   "outputs": [],
   "source": [
    "from sklearn.preprocessing import StandardScaler\n",
    "stdsc = StandardScaler()"
   ]
  },
  {
   "cell_type": "code",
   "execution_count": 11,
   "id": "6417c3f9",
   "metadata": {
    "execution": {
     "iopub.execute_input": "2022-07-05T17:22:06.355501Z",
     "iopub.status.busy": "2022-07-05T17:22:06.354701Z",
     "iopub.status.idle": "2022-07-05T17:23:30.200755Z",
     "shell.execute_reply": "2022-07-05T17:23:30.199540Z",
     "shell.execute_reply.started": "2022-05-08T22:32:36.693682Z"
    },
    "papermill": {
     "duration": 83.890275,
     "end_time": "2022-07-05T17:23:30.201176",
     "exception": false,
     "start_time": "2022-07-05T17:22:06.310901",
     "status": "completed"
    },
    "tags": []
   },
   "outputs": [],
   "source": [
    "for i in subf:\n",
    "    stock_price_df = daily_standardize(stock_price_df,i)"
   ]
  },
  {
   "cell_type": "code",
   "execution_count": 12,
   "id": "9e97d5b7",
   "metadata": {
    "execution": {
     "iopub.execute_input": "2022-07-05T17:23:31.771240Z",
     "iopub.status.busy": "2022-07-05T17:23:31.770161Z",
     "iopub.status.idle": "2022-07-05T17:23:50.490698Z",
     "shell.execute_reply": "2022-07-05T17:23:50.490158Z",
     "shell.execute_reply.started": "2022-05-08T22:33:35.196959Z"
    },
    "papermill": {
     "duration": 20.250106,
     "end_time": "2022-07-05T17:23:50.490842",
     "exception": false,
     "start_time": "2022-07-05T17:23:30.240736",
     "status": "completed"
    },
    "tags": []
   },
   "outputs": [
    {
     "data": {
      "text/html": [
       "<div>\n",
       "<style scoped>\n",
       "    .dataframe tbody tr th:only-of-type {\n",
       "        vertical-align: middle;\n",
       "    }\n",
       "\n",
       "    .dataframe tbody tr th {\n",
       "        vertical-align: top;\n",
       "    }\n",
       "\n",
       "    .dataframe thead th {\n",
       "        text-align: right;\n",
       "    }\n",
       "</style>\n",
       "<table border=\"1\" class=\"dataframe\">\n",
       "  <thead>\n",
       "    <tr style=\"text-align: right;\">\n",
       "      <th></th>\n",
       "      <th>RowId</th>\n",
       "      <th>Date</th>\n",
       "      <th>SecuritiesCode</th>\n",
       "      <th>Open</th>\n",
       "      <th>High</th>\n",
       "      <th>Low</th>\n",
       "      <th>Close</th>\n",
       "      <th>Volume</th>\n",
       "      <th>AdjustmentFactor</th>\n",
       "      <th>ExpectedDividend</th>\n",
       "      <th>...</th>\n",
       "      <th>Tuesday</th>\n",
       "      <th>Wednesday</th>\n",
       "      <th>Thursday</th>\n",
       "      <th>Friday</th>\n",
       "      <th>NewMarketSegment</th>\n",
       "      <th>33SectorCode</th>\n",
       "      <th>17SectorCode</th>\n",
       "      <th>Universe0</th>\n",
       "      <th>Section/Products</th>\n",
       "      <th>NewIndexSeriesSize</th>\n",
       "    </tr>\n",
       "  </thead>\n",
       "  <tbody>\n",
       "    <tr>\n",
       "      <th>0</th>\n",
       "      <td>20170104_1301</td>\n",
       "      <td>2017-01-04</td>\n",
       "      <td>1301</td>\n",
       "      <td>0.206799</td>\n",
       "      <td>0.198286</td>\n",
       "      <td>0.211367</td>\n",
       "      <td>0.199778</td>\n",
       "      <td>-0.119214</td>\n",
       "      <td>1.0</td>\n",
       "      <td>0.0</td>\n",
       "      <td>...</td>\n",
       "      <td>0</td>\n",
       "      <td>1</td>\n",
       "      <td>0</td>\n",
       "      <td>0</td>\n",
       "      <td>Prime Market</td>\n",
       "      <td>50</td>\n",
       "      <td>1</td>\n",
       "      <td>1</td>\n",
       "      <td>First Section (Domestic)</td>\n",
       "      <td>TOPIX Small 2</td>\n",
       "    </tr>\n",
       "    <tr>\n",
       "      <th>1</th>\n",
       "      <td>20170104_1332</td>\n",
       "      <td>2017-01-04</td>\n",
       "      <td>1332</td>\n",
       "      <td>-0.501139</td>\n",
       "      <td>-0.504093</td>\n",
       "      <td>-0.501782</td>\n",
       "      <td>-0.504558</td>\n",
       "      <td>0.151123</td>\n",
       "      <td>1.0</td>\n",
       "      <td>0.0</td>\n",
       "      <td>...</td>\n",
       "      <td>0</td>\n",
       "      <td>1</td>\n",
       "      <td>0</td>\n",
       "      <td>0</td>\n",
       "      <td>Prime Market</td>\n",
       "      <td>50</td>\n",
       "      <td>1</td>\n",
       "      <td>1</td>\n",
       "      <td>First Section (Domestic)</td>\n",
       "      <td>TOPIX Mid400</td>\n",
       "    </tr>\n",
       "    <tr>\n",
       "      <th>2</th>\n",
       "      <td>20170104_1333</td>\n",
       "      <td>2017-01-04</td>\n",
       "      <td>1333</td>\n",
       "      <td>0.342765</td>\n",
       "      <td>0.344951</td>\n",
       "      <td>0.346297</td>\n",
       "      <td>0.351611</td>\n",
       "      <td>-0.095825</td>\n",
       "      <td>1.0</td>\n",
       "      <td>0.0</td>\n",
       "      <td>...</td>\n",
       "      <td>0</td>\n",
       "      <td>1</td>\n",
       "      <td>0</td>\n",
       "      <td>0</td>\n",
       "      <td>Prime Market</td>\n",
       "      <td>50</td>\n",
       "      <td>1</td>\n",
       "      <td>1</td>\n",
       "      <td>First Section (Domestic)</td>\n",
       "      <td>TOPIX Mid400</td>\n",
       "    </tr>\n",
       "    <tr>\n",
       "      <th>3</th>\n",
       "      <td>20170104_1376</td>\n",
       "      <td>2017-01-04</td>\n",
       "      <td>1376</td>\n",
       "      <td>-0.193255</td>\n",
       "      <td>-0.190134</td>\n",
       "      <td>-0.190129</td>\n",
       "      <td>-0.186942</td>\n",
       "      <td>-0.121178</td>\n",
       "      <td>1.0</td>\n",
       "      <td>0.0</td>\n",
       "      <td>...</td>\n",
       "      <td>0</td>\n",
       "      <td>1</td>\n",
       "      <td>0</td>\n",
       "      <td>0</td>\n",
       "      <td>Standard Market</td>\n",
       "      <td>50</td>\n",
       "      <td>1</td>\n",
       "      <td>1</td>\n",
       "      <td>First Section (Domestic)</td>\n",
       "      <td>TOPIX Small 2</td>\n",
       "    </tr>\n",
       "    <tr>\n",
       "      <th>4</th>\n",
       "      <td>20170104_1377</td>\n",
       "      <td>2017-01-04</td>\n",
       "      <td>1377</td>\n",
       "      <td>0.381986</td>\n",
       "      <td>0.390078</td>\n",
       "      <td>0.389079</td>\n",
       "      <td>0.390542</td>\n",
       "      <td>-0.107549</td>\n",
       "      <td>1.0</td>\n",
       "      <td>0.0</td>\n",
       "      <td>...</td>\n",
       "      <td>0</td>\n",
       "      <td>1</td>\n",
       "      <td>0</td>\n",
       "      <td>0</td>\n",
       "      <td>Prime Market</td>\n",
       "      <td>50</td>\n",
       "      <td>1</td>\n",
       "      <td>1</td>\n",
       "      <td>First Section (Domestic)</td>\n",
       "      <td>TOPIX Small 1</td>\n",
       "    </tr>\n",
       "  </tbody>\n",
       "</table>\n",
       "<p>5 rows × 36 columns</p>\n",
       "</div>"
      ],
      "text/plain": [
       "           RowId       Date  SecuritiesCode      Open      High       Low  \\\n",
       "0  20170104_1301 2017-01-04            1301  0.206799  0.198286  0.211367   \n",
       "1  20170104_1332 2017-01-04            1332 -0.501139 -0.504093 -0.501782   \n",
       "2  20170104_1333 2017-01-04            1333  0.342765  0.344951  0.346297   \n",
       "3  20170104_1376 2017-01-04            1376 -0.193255 -0.190134 -0.190129   \n",
       "4  20170104_1377 2017-01-04            1377  0.381986  0.390078  0.389079   \n",
       "\n",
       "      Close    Volume  AdjustmentFactor  ExpectedDividend  ...  Tuesday  \\\n",
       "0  0.199778 -0.119214               1.0               0.0  ...        0   \n",
       "1 -0.504558  0.151123               1.0               0.0  ...        0   \n",
       "2  0.351611 -0.095825               1.0               0.0  ...        0   \n",
       "3 -0.186942 -0.121178               1.0               0.0  ...        0   \n",
       "4  0.390542 -0.107549               1.0               0.0  ...        0   \n",
       "\n",
       "   Wednesday  Thursday  Friday  NewMarketSegment  33SectorCode  17SectorCode  \\\n",
       "0          1         0       0      Prime Market            50             1   \n",
       "1          1         0       0      Prime Market            50             1   \n",
       "2          1         0       0      Prime Market            50             1   \n",
       "3          1         0       0   Standard Market            50             1   \n",
       "4          1         0       0      Prime Market            50             1   \n",
       "\n",
       "   Universe0          Section/Products  NewIndexSeriesSize  \n",
       "0          1  First Section (Domestic)       TOPIX Small 2  \n",
       "1          1  First Section (Domestic)        TOPIX Mid400  \n",
       "2          1  First Section (Domestic)        TOPIX Mid400  \n",
       "3          1  First Section (Domestic)       TOPIX Small 2  \n",
       "4          1  First Section (Domestic)       TOPIX Small 1  \n",
       "\n",
       "[5 rows x 36 columns]"
      ]
     },
     "execution_count": 12,
     "metadata": {},
     "output_type": "execute_result"
    }
   ],
   "source": [
    "stock_price_df = stock_price_df.fillna(0)\n",
    "stock_price_df.head()"
   ]
  },
  {
   "cell_type": "markdown",
   "id": "d9197b8b",
   "metadata": {
    "papermill": {
     "duration": 0.035758,
     "end_time": "2022-07-05T17:23:50.563377",
     "exception": false,
     "start_time": "2022-07-05T17:23:50.527619",
     "status": "completed"
    },
    "tags": []
   },
   "source": [
    "# standardize \"Target\" as well"
   ]
  },
  {
   "cell_type": "code",
   "execution_count": 13,
   "id": "547845e6",
   "metadata": {
    "execution": {
     "iopub.execute_input": "2022-07-05T17:23:50.642321Z",
     "iopub.status.busy": "2022-07-05T17:23:50.641183Z",
     "iopub.status.idle": "2022-07-05T17:23:54.266640Z",
     "shell.execute_reply": "2022-07-05T17:23:54.266076Z",
     "shell.execute_reply.started": "2022-05-08T22:33:50.168526Z"
    },
    "papermill": {
     "duration": 3.667411,
     "end_time": "2022-07-05T17:23:54.266831",
     "exception": false,
     "start_time": "2022-07-05T17:23:50.599420",
     "status": "completed"
    },
    "tags": []
   },
   "outputs": [],
   "source": [
    "stock_price_df = daily_standardize(stock_price_df,'Target')"
   ]
  },
  {
   "cell_type": "code",
   "execution_count": 14,
   "id": "bbeb227b",
   "metadata": {
    "execution": {
     "iopub.execute_input": "2022-07-05T17:23:54.343806Z",
     "iopub.status.busy": "2022-07-05T17:23:54.343097Z",
     "iopub.status.idle": "2022-07-05T17:23:54.350880Z",
     "shell.execute_reply": "2022-07-05T17:23:54.350278Z",
     "shell.execute_reply.started": "2022-05-08T22:33:52.92999Z"
    },
    "papermill": {
     "duration": 0.047144,
     "end_time": "2022-07-05T17:23:54.351045",
     "exception": false,
     "start_time": "2022-07-05T17:23:54.303901",
     "status": "completed"
    },
    "tags": []
   },
   "outputs": [
    {
     "data": {
      "text/plain": [
       "0   -0.028649\n",
       "1    0.679476\n",
       "2    0.302609\n",
       "3    0.601867\n",
       "4    0.111545\n",
       "Name: Target, dtype: float64"
      ]
     },
     "execution_count": 14,
     "metadata": {},
     "output_type": "execute_result"
    }
   ],
   "source": [
    "stock_price_df['Target'].head()"
   ]
  },
  {
   "cell_type": "markdown",
   "id": "e77ef092",
   "metadata": {
    "papermill": {
     "duration": 0.036447,
     "end_time": "2022-07-05T17:23:54.424382",
     "exception": false,
     "start_time": "2022-07-05T17:23:54.387935",
     "status": "completed"
    },
    "tags": []
   },
   "source": [
    "# Tranform the \"SecuritiesCode\" of stock as well"
   ]
  },
  {
   "cell_type": "code",
   "execution_count": 15,
   "id": "b62761b4",
   "metadata": {
    "execution": {
     "iopub.execute_input": "2022-07-05T17:23:54.506774Z",
     "iopub.status.busy": "2022-07-05T17:23:54.506045Z",
     "iopub.status.idle": "2022-07-05T17:24:32.320586Z",
     "shell.execute_reply": "2022-07-05T17:24:32.319890Z",
     "shell.execute_reply.started": "2022-05-08T22:33:52.940424Z"
    },
    "papermill": {
     "duration": 37.859191,
     "end_time": "2022-07-05T17:24:32.320758",
     "exception": false,
     "start_time": "2022-07-05T17:23:54.461567",
     "status": "completed"
    },
    "tags": []
   },
   "outputs": [
    {
     "name": "stderr",
     "output_type": "stream",
     "text": [
      "2022-07-05 17:23:54.573343: I tensorflow/core/common_runtime/process_util.cc:146] Creating new thread pool with default inter op setting: 2. Tune using inter_op_parallelism_threads for best performance.\n",
      "2022-07-05 17:23:54.735190: I tensorflow/compiler/mlir/mlir_graph_optimization_pass.cc:185] None of the MLIR Optimization Passes are enabled (registered 2)\n"
     ]
    }
   ],
   "source": [
    "investment_ids = list(stock_price_df['SecuritiesCode'].unique())\n",
    "investment_id_size = len(investment_ids) + 1\n",
    "investment_id_lookup_layer = layers.IntegerLookup(max_tokens=investment_id_size)\n",
    "with tf.device(\"cpu\"):\n",
    "    investment_id_lookup_layer.adapt(stock_price_df['SecuritiesCode'])"
   ]
  },
  {
   "cell_type": "markdown",
   "id": "b84063c1",
   "metadata": {
    "papermill": {
     "duration": 0.037991,
     "end_time": "2022-07-05T17:24:32.396761",
     "exception": false,
     "start_time": "2022-07-05T17:24:32.358770",
     "status": "completed"
    },
    "tags": []
   },
   "source": [
    "## Define the DNN model that separately trains \"SecuritiesCode\" & features, and then concatenate them together for the final training"
   ]
  },
  {
   "cell_type": "markdown",
   "id": "4989a141",
   "metadata": {
    "papermill": {
     "duration": 0.040797,
     "end_time": "2022-07-05T17:24:32.478626",
     "exception": false,
     "start_time": "2022-07-05T17:24:32.437829",
     "status": "completed"
    },
    "tags": []
   },
   "source": [
    "## You can adjust number of layers, neurons, and etc."
   ]
  },
  {
   "cell_type": "code",
   "execution_count": 16,
   "id": "249e89de",
   "metadata": {
    "execution": {
     "iopub.execute_input": "2022-07-05T17:24:32.566488Z",
     "iopub.status.busy": "2022-07-05T17:24:32.565308Z",
     "iopub.status.idle": "2022-07-05T17:24:32.567438Z",
     "shell.execute_reply": "2022-07-05T17:24:32.568078Z",
     "shell.execute_reply.started": "2022-05-08T22:34:22.787624Z"
    },
    "papermill": {
     "duration": 0.052065,
     "end_time": "2022-07-05T17:24:32.568266",
     "exception": false,
     "start_time": "2022-07-05T17:24:32.516201",
     "status": "completed"
    },
    "tags": []
   },
   "outputs": [],
   "source": [
    "# 神经网络\n",
    "# 两个特征\n",
    "def get_model():\n",
    "    investment_id_inputs = tf.keras.Input((1, ), dtype=tf.uint16)\n",
    "    features_inputs = tf.keras.Input((len(subf), ), dtype=tf.float16)\n",
    "    # 对输入ID做Embedding\n",
    "    investment_id_x = investment_id_lookup_layer(investment_id_inputs)\n",
    "    investment_id_x = layers.Embedding(investment_id_size, 4, input_length=1)(investment_id_x)\n",
    "    investment_id_x = layers.Reshape((-1, ))(investment_id_x)\n",
    "    # 全连接\n",
    "    investment_id_x = layers.Dense(16, activation='swish')(investment_id_x)\n",
    "    investment_id_x = layers.Dense(16, activation='swish')(investment_id_x)\n",
    "    \n",
    "    feature_x = layers.Dense(16, activation='swish')(features_inputs)\n",
    "    feature_x = layers.Dense(16, activation='swish')(feature_x)\n",
    "    \n",
    "    x = layers.Concatenate(axis=1)([investment_id_x, feature_x])\n",
    "    x = layers.Dense(16, activation='swish', kernel_regularizer=\"l2\")(x)\n",
    "    x = layers.Dense(16, activation='swish', kernel_regularizer=\"l2\")(x)\n",
    "    output = layers.Dense(1)(x)\n",
    "    rmse = keras.metrics.RootMeanSquaredError(name=\"rmse\")\n",
    "    model = tf.keras.Model(inputs=[investment_id_inputs, features_inputs], outputs=[output])\n",
    "    model.compile(optimizer=tf.optimizers.Adam(0.05), loss='mse', metrics=['mse', \"mae\", \"mape\", rmse])\n",
    "    return model\n"
   ]
  },
  {
   "cell_type": "markdown",
   "id": "be86627d",
   "metadata": {
    "papermill": {
     "duration": 0.037268,
     "end_time": "2022-07-05T17:24:32.642343",
     "exception": false,
     "start_time": "2022-07-05T17:24:32.605075",
     "status": "completed"
    },
    "tags": []
   },
   "source": [
    "## Transform the train data so that it can used for DNN model training."
   ]
  },
  {
   "cell_type": "code",
   "execution_count": 17,
   "id": "6d925a0b",
   "metadata": {
    "execution": {
     "iopub.execute_input": "2022-07-05T17:24:32.724060Z",
     "iopub.status.busy": "2022-07-05T17:24:32.723008Z",
     "iopub.status.idle": "2022-07-05T17:24:32.731013Z",
     "shell.execute_reply": "2022-07-05T17:24:32.730447Z",
     "shell.execute_reply.started": "2022-05-08T22:34:22.800768Z"
    },
    "papermill": {
     "duration": 0.049911,
     "end_time": "2022-07-05T17:24:32.731173",
     "exception": false,
     "start_time": "2022-07-05T17:24:32.681262",
     "status": "completed"
    },
    "tags": []
   },
   "outputs": [],
   "source": [
    "def preprocess(X, y):\n",
    "    print(X)\n",
    "    print(y)\n",
    "    return X, y\n",
    "def make_dataset(feature, investment_id, y, batch_size=32, mode=\"train\"):\n",
    "    ds = tf.data.Dataset.from_tensor_slices(((investment_id, feature), y))\n",
    "    ds = ds.map(preprocess)\n",
    "    if mode == \"train\":\n",
    "        # 打乱，256为随机种子\n",
    "        ds = ds.shuffle(256)\n",
    "    ds = ds.batch(batch_size).cache().prefetch(tf.data.experimental.AUTOTUNE)\n",
    "    return ds"
   ]
  },
  {
   "cell_type": "markdown",
   "id": "25b0c38e",
   "metadata": {
    "papermill": {
     "duration": 0.039923,
     "end_time": "2022-07-05T17:24:32.811329",
     "exception": false,
     "start_time": "2022-07-05T17:24:32.771406",
     "status": "completed"
    },
    "tags": []
   },
   "source": [
    "## Use GroupKFold to train 5 DNN models (the same \"Sector\" stock should always be in the same group)"
   ]
  },
  {
   "cell_type": "code",
   "execution_count": 18,
   "id": "cdf8b2c8",
   "metadata": {
    "execution": {
     "iopub.execute_input": "2022-07-05T17:24:32.896330Z",
     "iopub.status.busy": "2022-07-05T17:24:32.895393Z",
     "iopub.status.idle": "2022-07-05T17:24:32.968421Z",
     "shell.execute_reply": "2022-07-05T17:24:32.967567Z",
     "shell.execute_reply.started": "2022-05-08T22:34:22.817177Z"
    },
    "papermill": {
     "duration": 0.117732,
     "end_time": "2022-07-05T17:24:32.968611",
     "exception": false,
     "start_time": "2022-07-05T17:24:32.850879",
     "status": "completed"
    },
    "tags": []
   },
   "outputs": [],
   "source": [
    "# 交叉验证\n",
    "# 根据股票代码分组\n",
    "from sklearn.model_selection import GroupKFold\n",
    "kfold = GroupKFold(n_splits = 5)"
   ]
  },
  {
   "cell_type": "code",
   "execution_count": 19,
   "id": "370847ce",
   "metadata": {
    "execution": {
     "iopub.execute_input": "2022-07-05T17:24:33.199898Z",
     "iopub.status.busy": "2022-07-05T17:24:33.198069Z",
     "iopub.status.idle": "2022-07-05T17:27:01.159922Z",
     "shell.execute_reply": "2022-07-05T17:27:01.159124Z",
     "shell.execute_reply.started": "2022-05-08T22:34:22.871016Z"
    },
    "papermill": {
     "duration": 148.150586,
     "end_time": "2022-07-05T17:27:01.160145",
     "exception": false,
     "start_time": "2022-07-05T17:24:33.009559",
     "status": "completed"
    },
    "tags": []
   },
   "outputs": [
    {
     "name": "stdout",
     "output_type": "stream",
     "text": [
      "(<tf.Tensor 'args_0:0' shape=() dtype=int64>, <tf.Tensor 'args_1:0' shape=(19,) dtype=float64>)\n",
      "Tensor(\"args_2:0\", shape=(), dtype=float64)\n",
      "(<tf.Tensor 'args_0:0' shape=() dtype=int64>, <tf.Tensor 'args_1:0' shape=(19,) dtype=float64>)\n",
      "Tensor(\"args_2:0\", shape=(), dtype=float64)\n",
      "Epoch 1/3\n",
      "457/457 [==============================] - 16s 32ms/step - loss: 0.9151 - mse: 0.9110 - mae: 0.6358 - mape: 26717.6660 - rmse: 0.9544 - val_loss: 1.3632 - val_mse: 1.3619 - val_mae: 0.7644 - val_mape: 69448.7109 - val_rmse: 1.1670\n",
      "Epoch 2/3\n",
      "457/457 [==============================] - 5s 11ms/step - loss: 0.9142 - mse: 0.9111 - mae: 0.6359 - mape: 40607.8125 - rmse: 0.9545 - val_loss: 1.3633 - val_mse: 1.3618 - val_mae: 0.7644 - val_mape: 71064.6641 - val_rmse: 1.1670\n",
      "Epoch 3/3\n",
      "457/457 [==============================] - 5s 11ms/step - loss: 0.9110 - mse: 0.9109 - mae: 0.6358 - mape: 10494.5713 - rmse: 0.9544 - val_loss: 1.3606 - val_mse: 1.3598 - val_mae: 0.7623 - val_mape: 56779.0273 - val_rmse: 1.1661\n",
      "(<tf.Tensor 'args_0:0' shape=() dtype=int64>, <tf.Tensor 'args_1:0' shape=(19,) dtype=float64>)\n",
      "Tensor(\"args_2:0\", shape=(), dtype=float64)\n",
      "(<tf.Tensor 'args_0:0' shape=() dtype=int64>, <tf.Tensor 'args_1:0' shape=(19,) dtype=float64>)\n",
      "Tensor(\"args_2:0\", shape=(), dtype=float64)\n",
      "Epoch 1/3\n",
      "455/455 [==============================] - 16s 31ms/step - loss: 0.9786 - mse: 0.9752 - mae: 0.6517 - mape: 2028.8291 - rmse: 0.9875 - val_loss: 1.0934 - val_mse: 1.0934 - val_mae: 0.6913 - val_mape: 2815.8335 - val_rmse: 1.0457\n",
      "Epoch 2/3\n",
      "455/455 [==============================] - 6s 12ms/step - loss: 0.9920 - mse: 0.9763 - mae: 0.6522 - mape: 3280.0222 - rmse: 0.9881 - val_loss: 1.0934 - val_mse: 1.0934 - val_mae: 0.6915 - val_mape: 1142.2186 - val_rmse: 1.0456\n",
      "Epoch 3/3\n",
      "455/455 [==============================] - 5s 11ms/step - loss: 0.9751 - mse: 0.9750 - mae: 0.6515 - mape: 5115.5757 - rmse: 0.9874 - val_loss: 1.0945 - val_mse: 1.0943 - val_mae: 0.6908 - val_mape: 21517.3086 - val_rmse: 1.0461\n",
      "(<tf.Tensor 'args_0:0' shape=() dtype=int64>, <tf.Tensor 'args_1:0' shape=(19,) dtype=float64>)\n",
      "Tensor(\"args_2:0\", shape=(), dtype=float64)\n",
      "(<tf.Tensor 'args_0:0' shape=() dtype=int64>, <tf.Tensor 'args_1:0' shape=(19,) dtype=float64>)\n",
      "Tensor(\"args_2:0\", shape=(), dtype=float64)\n",
      "Epoch 1/3\n",
      "456/456 [==============================] - 17s 35ms/step - loss: 1.0752 - mse: 1.0714 - mae: 0.6815 - mape: 8673.3701 - rmse: 1.0351 - val_loss: 0.7116 - val_mse: 0.7116 - val_mae: 0.5746 - val_mape: 11232.6299 - val_rmse: 0.8436\n",
      "Epoch 2/3\n",
      "456/456 [==============================] - 6s 13ms/step - loss: 1.0713 - mse: 1.0713 - mae: 0.6815 - mape: 8632.5918 - rmse: 1.0350 - val_loss: 0.7150 - val_mse: 0.7126 - val_mae: 0.5757 - val_mape: 10887.6465 - val_rmse: 0.8442\n",
      "Epoch 3/3\n",
      "456/456 [==============================] - 5s 11ms/step - loss: 1.1146 - mse: 1.0769 - mae: 0.6847 - mape: 14601.1279 - rmse: 1.0377 - val_loss: 0.7147 - val_mse: 0.7147 - val_mae: 0.5747 - val_mape: 61038.4258 - val_rmse: 0.8454\n",
      "(<tf.Tensor 'args_0:0' shape=() dtype=int64>, <tf.Tensor 'args_1:0' shape=(19,) dtype=float64>)\n",
      "Tensor(\"args_2:0\", shape=(), dtype=float64)\n",
      "(<tf.Tensor 'args_0:0' shape=() dtype=int64>, <tf.Tensor 'args_1:0' shape=(19,) dtype=float64>)\n",
      "Tensor(\"args_2:0\", shape=(), dtype=float64)\n",
      "Epoch 1/3\n",
      "457/457 [==============================] - 17s 35ms/step - loss: 0.9859 - mse: 0.9822 - mae: 0.6536 - mape: 9750.8105 - rmse: 0.9911 - val_loss: 1.0689 - val_mse: 1.0689 - val_mae: 0.6861 - val_mape: 13811.0107 - val_rmse: 1.0339\n",
      "Epoch 2/3\n",
      "457/457 [==============================] - 5s 12ms/step - loss: 0.9859 - mse: 0.9823 - mae: 0.6537 - mape: 38927.7773 - rmse: 0.9911 - val_loss: 1.0698 - val_mse: 1.0689 - val_mae: 0.6860 - val_mape: 13796.9570 - val_rmse: 1.0339\n",
      "Epoch 3/3\n",
      "457/457 [==============================] - 6s 13ms/step - loss: 0.9822 - mse: 0.9820 - mae: 0.6535 - mape: 12399.2881 - rmse: 0.9910 - val_loss: 1.0691 - val_mse: 1.0691 - val_mae: 0.6865 - val_mape: 19063.5996 - val_rmse: 1.0340\n",
      "(<tf.Tensor 'args_0:0' shape=() dtype=int64>, <tf.Tensor 'args_1:0' shape=(19,) dtype=float64>)\n",
      "Tensor(\"args_2:0\", shape=(), dtype=float64)\n",
      "(<tf.Tensor 'args_0:0' shape=() dtype=int64>, <tf.Tensor 'args_1:0' shape=(19,) dtype=float64>)\n",
      "Tensor(\"args_2:0\", shape=(), dtype=float64)\n",
      "Epoch 1/3\n",
      "456/456 [==============================] - 15s 30ms/step - loss: 1.0620 - mse: 1.0577 - mae: 0.6774 - mape: 17402.5527 - rmse: 1.0285 - val_loss: 0.7655 - val_mse: 0.7655 - val_mae: 0.5892 - val_mape: 8878.8486 - val_rmse: 0.8749\n",
      "Epoch 2/3\n",
      "456/456 [==============================] - 5s 11ms/step - loss: 1.0574 - mse: 1.0574 - mae: 0.6772 - mape: 13025.3555 - rmse: 1.0283 - val_loss: 0.7655 - val_mse: 0.7655 - val_mae: 0.5892 - val_mape: 9138.2236 - val_rmse: 0.8749\n",
      "Epoch 3/3\n",
      "456/456 [==============================] - 6s 12ms/step - loss: 1.0575 - mse: 1.0574 - mae: 0.6772 - mape: 2898.5515 - rmse: 1.0283 - val_loss: 0.7655 - val_mse: 0.7655 - val_mae: 0.5892 - val_mape: 7880.9136 - val_rmse: 0.8749\n"
     ]
    }
   ],
   "source": [
    "count=0\n",
    "df_x = stock_price_df[subf]\n",
    "df_y=stock_price_df['Target']\n",
    "time_id = stock_price_df['33SectorCode']\n",
    "dnn_models = []\n",
    "for train_index, val_index in kfold.split(df_x, df_y,time_id):\n",
    "    # Split training dataset.\n",
    "    train_x, train_y = df_x.iloc[train_index], df_y.iloc[train_index]\n",
    "    train_inv =stock_price_df['SecuritiesCode'].iloc[train_index]\n",
    "    # Split validation dataset.\n",
    "    val_x, val_y = df_x.iloc[val_index], df_y.iloc[val_index]\n",
    "    val_inv =  stock_price_df['SecuritiesCode'].iloc[val_index]\n",
    "    # Make tensor dataset.\n",
    "    tf_train = make_dataset(train_x, train_inv, train_y, batch_size=4096, mode=\"train\")\n",
    "    tf_val = make_dataset(val_x, val_inv, val_y, batch_size=4096, mode=\"train\")\n",
    "    # Load model\n",
    "    model = get_model()\n",
    "  \n",
    "    model.fit(tf_train, epochs = 3,\n",
    "             validation_data = (tf_val), shuffle=True)\n",
    "    model.save_weights('my_dnn_'+str(count)+'.tf')\n",
    "    dnn_models.append(model)\n",
    "    count+=1\n",
    "\n",
    "    del tf_train\n",
    "    del tf_val\n",
    "    del model, train_x, train_y, val_x, val_y"
   ]
  },
  {
   "cell_type": "markdown",
   "id": "3e905c34",
   "metadata": {
    "papermill": {
     "duration": 0.727327,
     "end_time": "2022-07-05T17:27:02.638841",
     "exception": false,
     "start_time": "2022-07-05T17:27:01.911514",
     "status": "completed"
    },
    "tags": []
   },
   "source": [
    "## average model predictions"
   ]
  },
  {
   "cell_type": "code",
   "execution_count": 20,
   "id": "7319ea5c",
   "metadata": {
    "execution": {
     "iopub.execute_input": "2022-07-05T17:27:04.180008Z",
     "iopub.status.busy": "2022-07-05T17:27:04.179263Z",
     "iopub.status.idle": "2022-07-05T17:27:04.181987Z",
     "shell.execute_reply": "2022-07-05T17:27:04.182459Z",
     "shell.execute_reply.started": "2022-05-08T22:34:57.692999Z"
    },
    "papermill": {
     "duration": 0.788925,
     "end_time": "2022-07-05T17:27:04.182687",
     "exception": false,
     "start_time": "2022-07-05T17:27:03.393762",
     "status": "completed"
    },
    "tags": []
   },
   "outputs": [],
   "source": [
    "def infer(models, ds):\n",
    "    y_preds = []\n",
    "    for model in models:\n",
    "        y_pred = model.predict(ds)\n",
    "        y_preds.append(y_pred)\n",
    "    return np.mean(y_preds, axis=0)"
   ]
  },
  {
   "cell_type": "markdown",
   "id": "50b6fc72",
   "metadata": {
    "papermill": {
     "duration": 0.749109,
     "end_time": "2022-07-05T17:27:05.701895",
     "exception": false,
     "start_time": "2022-07-05T17:27:04.952786",
     "status": "completed"
    },
    "tags": []
   },
   "source": [
    "## Transform test set so that it can be used for prediction"
   ]
  },
  {
   "cell_type": "code",
   "execution_count": 21,
   "id": "10d3e4b9",
   "metadata": {
    "execution": {
     "iopub.execute_input": "2022-07-05T17:27:07.203716Z",
     "iopub.status.busy": "2022-07-05T17:27:07.202742Z",
     "iopub.status.idle": "2022-07-05T17:27:07.204465Z",
     "shell.execute_reply": "2022-07-05T17:27:07.204980Z",
     "shell.execute_reply.started": "2022-05-08T22:34:57.698129Z"
    },
    "papermill": {
     "duration": 0.76608,
     "end_time": "2022-07-05T17:27:07.205165",
     "exception": false,
     "start_time": "2022-07-05T17:27:06.439085",
     "status": "completed"
    },
    "tags": []
   },
   "outputs": [],
   "source": [
    "def preprocess_test(investment_id, feature):\n",
    "    return (investment_id, feature), 0\n",
    "\n",
    "def make_test_dataset(feature, investment_id, batch_size=1024):\n",
    "    ds = tf.data.Dataset.from_tensor_slices(((investment_id, feature)))\n",
    "    ds = ds.map(preprocess_test)\n",
    "    ds = ds.batch(batch_size).cache().prefetch(tf.data.experimental.AUTOTUNE)\n",
    "    return ds"
   ]
  },
  {
   "cell_type": "markdown",
   "id": "a6af64c7",
   "metadata": {
    "papermill": {
     "duration": 0.741042,
     "end_time": "2022-07-05T17:27:08.681969",
     "exception": false,
     "start_time": "2022-07-05T17:27:07.940927",
     "status": "completed"
    },
    "tags": []
   },
   "source": [
    "## Create features for the test set, standardize them, and use 5 DNN models averaging to make final prediction."
   ]
  },
  {
   "cell_type": "code",
   "execution_count": 22,
   "id": "b81fbd6e",
   "metadata": {
    "execution": {
     "iopub.execute_input": "2022-07-05T17:27:10.176346Z",
     "iopub.status.busy": "2022-07-05T17:27:10.175625Z",
     "iopub.status.idle": "2022-07-05T17:27:11.992399Z",
     "shell.execute_reply": "2022-07-05T17:27:11.993582Z",
     "shell.execute_reply.started": "2022-05-08T22:34:57.710326Z"
    },
    "papermill": {
     "duration": 2.561972,
     "end_time": "2022-07-05T17:27:11.993849",
     "exception": false,
     "start_time": "2022-07-05T17:27:09.431877",
     "status": "completed"
    },
    "tags": []
   },
   "outputs": [
    {
     "name": "stdout",
     "output_type": "stream",
     "text": [
      "This version of the API is not optimized and should not be used to estimate the runtime of your code on the hidden test set.\n",
      "            Date  SecuritiesCode  Rank\n",
      "0     2021-12-06            1301  1931\n",
      "1     2021-12-06            1332   238\n",
      "2     2021-12-06            1333  1540\n",
      "3     2021-12-06            1375   360\n",
      "4     2021-12-06            1376   773\n",
      "...          ...             ...   ...\n",
      "1995  2021-12-06            9990   320\n",
      "1996  2021-12-06            9991  1124\n",
      "1997  2021-12-06            9993   870\n",
      "1998  2021-12-06            9994  1650\n",
      "1999  2021-12-06            9997   328\n",
      "\n",
      "[2000 rows x 3 columns]\n",
      "            Date  SecuritiesCode  Rank\n",
      "0     2021-12-07            1301  1967\n",
      "1     2021-12-07            1332   282\n",
      "2     2021-12-07            1333  1554\n",
      "3     2021-12-07            1375   533\n",
      "4     2021-12-07            1376   766\n",
      "...          ...             ...   ...\n",
      "1995  2021-12-07            9990   177\n",
      "1996  2021-12-07            9991   655\n",
      "1997  2021-12-07            9993  1417\n",
      "1998  2021-12-07            9994  1128\n",
      "1999  2021-12-07            9997   368\n",
      "\n",
      "[2000 rows x 3 columns]\n"
     ]
    }
   ],
   "source": [
    "import jpx_tokyo_market_prediction\n",
    "env = jpx_tokyo_market_prediction.make_env()   # initialize the environment\n",
    "iter_test = env.iter_test()    # an iterator which loops over the test files\n",
    "for (prices, options, financials, trades, secondary_prices, sample_prediction) in iter_test:\n",
    "    \n",
    "    prices['ExpectedDividend'] = prices['ExpectedDividend'].fillna(0)\n",
    "    prices['SupervisionFlag'] = prices['SupervisionFlag'].map({True: 1, False: 0})\n",
    "    prices = pd.merge(prices,stock_list, on='SecuritiesCode')\n",
    "    \n",
    "    prices = FE(prices)\n",
    "    \n",
    "    prices[subf] = StandardScaler().fit_transform(prices[subf])\n",
    "    prices = prices.fillna(0)\n",
    "\n",
    "\n",
    "    prices['inference'] = -infer(dnn_models, make_test_dataset(prices[subf],prices['SecuritiesCode']))\n",
    "    prices['rank'] = prices['inference'].rank(method='first')-1\n",
    "    prices['rank'] = prices['rank'].apply(lambda x: int(x))\n",
    "    prices = prices.drop('Date',axis=1)\n",
    "\n",
    "    sample_prediction = pd.merge(sample_prediction, prices, on=['SecuritiesCode'])[['Date','SecuritiesCode','rank']]\n",
    "    sample_prediction['rank'] = sample_prediction['rank'].fillna(1000)\n",
    "    sample_prediction.columns = ['Date','SecuritiesCode','Rank']\n",
    "    print(sample_prediction)\n",
    "    \n",
    "    env.predict(sample_prediction)   # register your predictions"
   ]
  },
  {
   "cell_type": "code",
   "execution_count": 23,
   "id": "7014dd86",
   "metadata": {
    "execution": {
     "iopub.execute_input": "2022-07-05T17:27:13.493979Z",
     "iopub.status.busy": "2022-07-05T17:27:13.493184Z",
     "iopub.status.idle": "2022-07-05T17:27:13.498621Z",
     "shell.execute_reply": "2022-07-05T17:27:13.499181Z",
     "shell.execute_reply.started": "2022-05-08T22:34:58.658395Z"
    },
    "papermill": {
     "duration": 0.767588,
     "end_time": "2022-07-05T17:27:13.499381",
     "exception": false,
     "start_time": "2022-07-05T17:27:12.731793",
     "status": "completed"
    },
    "tags": []
   },
   "outputs": [
    {
     "data": {
      "text/plain": [
       "2000"
      ]
     },
     "execution_count": 23,
     "metadata": {},
     "output_type": "execute_result"
    }
   ],
   "source": [
    "len(np.unique(sample_prediction['Rank']))"
   ]
  },
  {
   "cell_type": "code",
   "execution_count": 24,
   "id": "15d55461",
   "metadata": {
    "execution": {
     "iopub.execute_input": "2022-07-05T17:27:15.009717Z",
     "iopub.status.busy": "2022-07-05T17:27:15.008610Z",
     "iopub.status.idle": "2022-07-05T17:27:15.036770Z",
     "shell.execute_reply": "2022-07-05T17:27:15.036177Z",
     "shell.execute_reply.started": "2022-05-08T22:34:58.667357Z"
    },
    "papermill": {
     "duration": 0.786196,
     "end_time": "2022-07-05T17:27:15.036938",
     "exception": false,
     "start_time": "2022-07-05T17:27:14.250742",
     "status": "completed"
    },
    "tags": []
   },
   "outputs": [
    {
     "data": {
      "text/html": [
       "<div>\n",
       "<style scoped>\n",
       "    .dataframe tbody tr th:only-of-type {\n",
       "        vertical-align: middle;\n",
       "    }\n",
       "\n",
       "    .dataframe tbody tr th {\n",
       "        vertical-align: top;\n",
       "    }\n",
       "\n",
       "    .dataframe thead th {\n",
       "        text-align: right;\n",
       "    }\n",
       "</style>\n",
       "<table border=\"1\" class=\"dataframe\">\n",
       "  <thead>\n",
       "    <tr style=\"text-align: right;\">\n",
       "      <th></th>\n",
       "      <th>RowId</th>\n",
       "      <th>SecuritiesCode</th>\n",
       "      <th>Open</th>\n",
       "      <th>High</th>\n",
       "      <th>Low</th>\n",
       "      <th>Close</th>\n",
       "      <th>Volume</th>\n",
       "      <th>AdjustmentFactor</th>\n",
       "      <th>ExpectedDividend</th>\n",
       "      <th>SupervisionFlag</th>\n",
       "      <th>...</th>\n",
       "      <th>bsforce</th>\n",
       "      <th>Opos</th>\n",
       "      <th>weekday</th>\n",
       "      <th>Monday</th>\n",
       "      <th>Tuesday</th>\n",
       "      <th>Wednesday</th>\n",
       "      <th>Thursday</th>\n",
       "      <th>Friday</th>\n",
       "      <th>inference</th>\n",
       "      <th>rank</th>\n",
       "    </tr>\n",
       "  </thead>\n",
       "  <tbody>\n",
       "    <tr>\n",
       "      <th>0</th>\n",
       "      <td>20211207_1301</td>\n",
       "      <td>1301</td>\n",
       "      <td>0.048464</td>\n",
       "      <td>0.049647</td>\n",
       "      <td>0.053000</td>\n",
       "      <td>0.052898</td>\n",
       "      <td>-0.278169</td>\n",
       "      <td>1.0</td>\n",
       "      <td>0.0</td>\n",
       "      <td>-0.050063</td>\n",
       "      <td>...</td>\n",
       "      <td>-0.218825</td>\n",
       "      <td>-0.686894</td>\n",
       "      <td>2</td>\n",
       "      <td>0</td>\n",
       "      <td>1</td>\n",
       "      <td>0</td>\n",
       "      <td>0</td>\n",
       "      <td>0</td>\n",
       "      <td>0.003980</td>\n",
       "      <td>1967</td>\n",
       "    </tr>\n",
       "    <tr>\n",
       "      <th>1</th>\n",
       "      <td>20211207_1332</td>\n",
       "      <td>1332</td>\n",
       "      <td>-0.502494</td>\n",
       "      <td>-0.505402</td>\n",
       "      <td>-0.509387</td>\n",
       "      <td>-0.508151</td>\n",
       "      <td>2.579301</td>\n",
       "      <td>1.0</td>\n",
       "      <td>0.0</td>\n",
       "      <td>-0.050063</td>\n",
       "      <td>...</td>\n",
       "      <td>0.569352</td>\n",
       "      <td>2.783155</td>\n",
       "      <td>2</td>\n",
       "      <td>0</td>\n",
       "      <td>1</td>\n",
       "      <td>0</td>\n",
       "      <td>0</td>\n",
       "      <td>0</td>\n",
       "      <td>0.003868</td>\n",
       "      <td>282</td>\n",
       "    </tr>\n",
       "    <tr>\n",
       "      <th>2</th>\n",
       "      <td>20211207_1333</td>\n",
       "      <td>1333</td>\n",
       "      <td>-0.091261</td>\n",
       "      <td>-0.094452</td>\n",
       "      <td>-0.088799</td>\n",
       "      <td>-0.093793</td>\n",
       "      <td>-0.230086</td>\n",
       "      <td>1.0</td>\n",
       "      <td>0.0</td>\n",
       "      <td>-0.050063</td>\n",
       "      <td>...</td>\n",
       "      <td>-0.185200</td>\n",
       "      <td>-0.172354</td>\n",
       "      <td>2</td>\n",
       "      <td>0</td>\n",
       "      <td>1</td>\n",
       "      <td>0</td>\n",
       "      <td>0</td>\n",
       "      <td>0</td>\n",
       "      <td>0.003943</td>\n",
       "      <td>1554</td>\n",
       "    </tr>\n",
       "    <tr>\n",
       "      <th>3</th>\n",
       "      <td>20211207_1375</td>\n",
       "      <td>1375</td>\n",
       "      <td>-0.353243</td>\n",
       "      <td>-0.350406</td>\n",
       "      <td>-0.350864</td>\n",
       "      <td>-0.349832</td>\n",
       "      <td>-0.229508</td>\n",
       "      <td>1.0</td>\n",
       "      <td>0.0</td>\n",
       "      <td>-0.050063</td>\n",
       "      <td>...</td>\n",
       "      <td>-0.168163</td>\n",
       "      <td>-1.101229</td>\n",
       "      <td>2</td>\n",
       "      <td>0</td>\n",
       "      <td>1</td>\n",
       "      <td>0</td>\n",
       "      <td>0</td>\n",
       "      <td>0</td>\n",
       "      <td>0.003887</td>\n",
       "      <td>533</td>\n",
       "    </tr>\n",
       "    <tr>\n",
       "      <th>4</th>\n",
       "      <td>20211207_1376</td>\n",
       "      <td>1376</td>\n",
       "      <td>-0.319900</td>\n",
       "      <td>-0.321720</td>\n",
       "      <td>-0.319023</td>\n",
       "      <td>-0.320538</td>\n",
       "      <td>-0.284079</td>\n",
       "      <td>1.0</td>\n",
       "      <td>0.0</td>\n",
       "      <td>-0.050063</td>\n",
       "      <td>...</td>\n",
       "      <td>-0.225821</td>\n",
       "      <td>-0.029674</td>\n",
       "      <td>2</td>\n",
       "      <td>0</td>\n",
       "      <td>1</td>\n",
       "      <td>0</td>\n",
       "      <td>0</td>\n",
       "      <td>0</td>\n",
       "      <td>0.003900</td>\n",
       "      <td>766</td>\n",
       "    </tr>\n",
       "  </tbody>\n",
       "</table>\n",
       "<p>5 rows × 36 columns</p>\n",
       "</div>"
      ],
      "text/plain": [
       "           RowId  SecuritiesCode      Open      High       Low     Close  \\\n",
       "0  20211207_1301            1301  0.048464  0.049647  0.053000  0.052898   \n",
       "1  20211207_1332            1332 -0.502494 -0.505402 -0.509387 -0.508151   \n",
       "2  20211207_1333            1333 -0.091261 -0.094452 -0.088799 -0.093793   \n",
       "3  20211207_1375            1375 -0.353243 -0.350406 -0.350864 -0.349832   \n",
       "4  20211207_1376            1376 -0.319900 -0.321720 -0.319023 -0.320538   \n",
       "\n",
       "     Volume  AdjustmentFactor  ExpectedDividend  SupervisionFlag  ...  \\\n",
       "0 -0.278169               1.0               0.0        -0.050063  ...   \n",
       "1  2.579301               1.0               0.0        -0.050063  ...   \n",
       "2 -0.230086               1.0               0.0        -0.050063  ...   \n",
       "3 -0.229508               1.0               0.0        -0.050063  ...   \n",
       "4 -0.284079               1.0               0.0        -0.050063  ...   \n",
       "\n",
       "    bsforce      Opos weekday  Monday Tuesday Wednesday  Thursday  Friday  \\\n",
       "0 -0.218825 -0.686894       2       0       1         0         0       0   \n",
       "1  0.569352  2.783155       2       0       1         0         0       0   \n",
       "2 -0.185200 -0.172354       2       0       1         0         0       0   \n",
       "3 -0.168163 -1.101229       2       0       1         0         0       0   \n",
       "4 -0.225821 -0.029674       2       0       1         0         0       0   \n",
       "\n",
       "   inference  rank  \n",
       "0   0.003980  1967  \n",
       "1   0.003868   282  \n",
       "2   0.003943  1554  \n",
       "3   0.003887   533  \n",
       "4   0.003900   766  \n",
       "\n",
       "[5 rows x 36 columns]"
      ]
     },
     "execution_count": 24,
     "metadata": {},
     "output_type": "execute_result"
    }
   ],
   "source": [
    "alt = prices.copy()\n",
    "alt.head()"
   ]
  }
 ],
 "metadata": {
  "kernelspec": {
   "display_name": "Python 3.7.10 ('base')",
   "language": "python",
   "name": "python3"
  },
  "language_info": {
   "codemirror_mode": {
    "name": "ipython",
    "version": 3
   },
   "file_extension": ".py",
   "mimetype": "text/x-python",
   "name": "python",
   "nbconvert_exporter": "python",
   "pygments_lexer": "ipython3",
   "version": "3.7.10"
  },
  "papermill": {
   "default_parameters": {},
   "duration": 346.126138,
   "end_time": "2022-07-05T17:27:19.122069",
   "environment_variables": {},
   "exception": null,
   "input_path": "__notebook__.ipynb",
   "output_path": "__notebook__.ipynb",
   "parameters": {},
   "start_time": "2022-07-05T17:21:32.995931",
   "version": "2.3.3"
  },
  "vscode": {
   "interpreter": {
    "hash": "820d776940a02930c69820a8cec178404e4e9e60b6116e2717a21913b50566a0"
   }
  }
 },
 "nbformat": 4,
 "nbformat_minor": 5
}

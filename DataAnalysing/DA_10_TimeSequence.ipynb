{
 "cells": [
  {
   "cell_type": "code",
   "execution_count": 1,
   "metadata": {},
   "outputs": [
    {
     "data": {
      "text/plain": [
       "Timestamp('2022-08-01 00:00:00')"
      ]
     },
     "execution_count": 1,
     "metadata": {},
     "output_type": "execute_result"
    }
   ],
   "source": [
    "import pandas as pd\n",
    "\n",
    "pd.Timestamp(2022, 8, 1)\n"
   ]
  },
  {
   "cell_type": "code",
   "execution_count": 2,
   "metadata": {},
   "outputs": [
    {
     "data": {
      "text/plain": [
       "Timestamp('2022-08-01 00:00:00')"
      ]
     },
     "execution_count": 2,
     "metadata": {},
     "output_type": "execute_result"
    }
   ],
   "source": [
    "from datetime import datetime\n",
    "\n",
    "pd.Timestamp(datetime(2022, 8, 1))\n"
   ]
  },
  {
   "cell_type": "code",
   "execution_count": 3,
   "metadata": {},
   "outputs": [
    {
     "data": {
      "text/plain": [
       "Period('2022-08', 'M')"
      ]
     },
     "execution_count": 3,
     "metadata": {},
     "output_type": "execute_result"
    }
   ],
   "source": [
    "pd.Period('2022-08')"
   ]
  },
  {
   "cell_type": "code",
   "execution_count": 4,
   "metadata": {},
   "outputs": [
    {
     "data": {
      "text/plain": [
       "Period('2022-08-01', 'D')"
      ]
     },
     "execution_count": 4,
     "metadata": {},
     "output_type": "execute_result"
    }
   ],
   "source": [
    "pd.Period('2022-08', freq='D')"
   ]
  },
  {
   "cell_type": "code",
   "execution_count": 5,
   "metadata": {},
   "outputs": [
    {
     "data": {
      "text/plain": [
       "DatetimeIndex(['2022-08-01', '2022-09-01', '2022-10-01'], dtype='datetime64[ns]', freq=None)"
      ]
     },
     "execution_count": 5,
     "metadata": {},
     "output_type": "execute_result"
    }
   ],
   "source": [
    "df = ['2022-08-01', '2022-09-01', '2022-10-01']\n",
    "pd.to_datetime(df)\n"
   ]
  },
  {
   "cell_type": "code",
   "execution_count": 6,
   "metadata": {},
   "outputs": [
    {
     "data": {
      "text/plain": [
       "0   2022-09-30\n",
       "1   2022-10-01\n",
       "2          NaT\n",
       "dtype: datetime64[ns]"
      ]
     },
     "execution_count": 6,
     "metadata": {},
     "output_type": "execute_result"
    }
   ],
   "source": [
    "df = pd.Series(['Sep 30, 2022', '2022-10-1', None])\n",
    "pd.to_datetime(df)"
   ]
  },
  {
   "cell_type": "code",
   "execution_count": 9,
   "metadata": {},
   "outputs": [
    {
     "data": {
      "text/plain": [
       "0   2017-05-30 23:00:00\n",
       "1   2018-06-01 00:00:00\n",
       "2   2019-07-02 01:00:00\n",
       "3   2020-08-03 02:00:00\n",
       "4   2021-09-04 03:00:00\n",
       "5   2022-10-05 04:00:00\n",
       "dtype: datetime64[ns]"
      ]
     },
     "execution_count": 9,
     "metadata": {},
     "output_type": "execute_result"
    }
   ],
   "source": [
    "df = pd.DataFrame({'year': [2017, 2018,2019,2020,2021,2022],\n",
    "                   'month': [5, 6, 7, 8, 9, 10],\n",
    "                   'day': [30, 1, 2, 3, 4, 5],\n",
    "                   'hour': [23, 0, 1, 2, 3, 4]})\n",
    "pd.to_datetime(df)\n"
   ]
  },
  {
   "cell_type": "code",
   "execution_count": 10,
   "metadata": {},
   "outputs": [
    {
     "data": {
      "text/plain": [
       "DatetimeIndex(['2022-08-01', '2022-09-01', '2022-10-01'], dtype='datetime64[ns]', freq=None)"
      ]
     },
     "execution_count": 10,
     "metadata": {},
     "output_type": "execute_result"
    }
   ],
   "source": [
    "dates = ['2022-08-01', '2022-09-01', '2022-10-01']\n",
    "index = pd.DatetimeIndex(dates)\n",
    "index"
   ]
  },
  {
   "cell_type": "code",
   "execution_count": 12,
   "metadata": {},
   "outputs": [
    {
     "data": {
      "text/plain": [
       "DatetimeIndex(['2022-07-31', '2022-08-31', '2022-09-30', '2022-10-31',\n",
       "               '2022-11-30', '2022-12-31', '2023-01-31', '2023-02-28',\n",
       "               '2023-03-31', '2023-04-30',\n",
       "               ...\n",
       "               '2042-07-31', '2042-08-31', '2042-09-30', '2042-10-31',\n",
       "               '2042-11-30', '2042-12-31', '2043-01-31', '2043-02-28',\n",
       "               '2043-03-31', '2043-04-30'],\n",
       "              dtype='datetime64[ns]', length=250, freq='M')"
      ]
     },
     "execution_count": 12,
     "metadata": {},
     "output_type": "execute_result"
    }
   ],
   "source": [
    "index = pd.date_range('2022-7-30', periods=250, freq='M')\n",
    "index"
   ]
  },
  {
   "cell_type": "code",
   "execution_count": 13,
   "metadata": {},
   "outputs": [
    {
     "data": {
      "text/plain": [
       "DatetimeIndex(['2022-08-01', '2022-08-02', '2022-08-03', '2022-08-04',\n",
       "               '2022-08-05', '2022-08-08', '2022-08-09', '2022-08-10',\n",
       "               '2022-08-11', '2022-08-12',\n",
       "               ...\n",
       "               '2022-12-20', '2022-12-21', '2022-12-22', '2022-12-23',\n",
       "               '2022-12-26', '2022-12-27', '2022-12-28', '2022-12-29',\n",
       "               '2022-12-30', '2023-01-02'],\n",
       "              dtype='datetime64[ns]', length=111, freq='B')"
      ]
     },
     "execution_count": 13,
     "metadata": {},
     "output_type": "execute_result"
    }
   ],
   "source": [
    "index = pd.bdate_range('2022-08-1', periods=111)\n",
    "index"
   ]
  },
  {
   "cell_type": "code",
   "execution_count": 14,
   "metadata": {},
   "outputs": [
    {
     "data": {
      "text/plain": [
       "DatetimeIndex(['2021-10-03', '2021-10-10', '2021-10-17', '2021-10-24',\n",
       "               '2021-10-31', '2021-11-07', '2021-11-14', '2021-11-21',\n",
       "               '2021-11-28', '2021-12-05', '2021-12-12', '2021-12-19',\n",
       "               '2021-12-26', '2022-01-02', '2022-01-09', '2022-01-16',\n",
       "               '2022-01-23', '2022-01-30', '2022-02-06', '2022-02-13',\n",
       "               '2022-02-20', '2022-02-27', '2022-03-06', '2022-03-13',\n",
       "               '2022-03-20', '2022-03-27', '2022-04-03', '2022-04-10',\n",
       "               '2022-04-17', '2022-04-24', '2022-05-01', '2022-05-08',\n",
       "               '2022-05-15', '2022-05-22', '2022-05-29', '2022-06-05',\n",
       "               '2022-06-12', '2022-06-19', '2022-06-26', '2022-07-03',\n",
       "               '2022-07-10', '2022-07-17', '2022-07-24', '2022-07-31',\n",
       "               '2022-08-07', '2022-08-14', '2022-08-21', '2022-08-28',\n",
       "               '2022-09-04', '2022-09-11', '2022-09-18', '2022-09-25'],\n",
       "              dtype='datetime64[ns]', freq='W-SUN')"
      ]
     },
     "execution_count": 14,
     "metadata": {},
     "output_type": "execute_result"
    }
   ],
   "source": [
    "start = datetime(2021, 10, 1)\n",
    "end = datetime(2022, 10, 1)\n",
    "rng = pd.date_range(start, end, freq='W')\n",
    "rng"
   ]
  },
  {
   "cell_type": "code",
   "execution_count": 15,
   "metadata": {},
   "outputs": [
    {
     "data": {
      "text/plain": [
       "DatetimeIndex(['2021-10-18', '2021-10-19', '2021-10-20', '2021-10-21',\n",
       "               '2021-10-22', '2021-10-25', '2021-10-26', '2021-10-27',\n",
       "               '2021-10-28', '2021-10-29',\n",
       "               ...\n",
       "               '2022-09-19', '2022-09-20', '2022-09-21', '2022-09-22',\n",
       "               '2022-09-23', '2022-09-26', '2022-09-27', '2022-09-28',\n",
       "               '2022-09-29', '2022-09-30'],\n",
       "              dtype='datetime64[ns]', length=250, freq='B')"
      ]
     },
     "execution_count": 15,
     "metadata": {},
     "output_type": "execute_result"
    }
   ],
   "source": [
    "pd.bdate_range(end=end, periods=250)\n"
   ]
  },
  {
   "cell_type": "code",
   "execution_count": 16,
   "metadata": {},
   "outputs": [
    {
     "data": {
      "text/plain": [
       "PeriodIndex(['2022-07-30', '2022-07-31', '2022-08-01', '2022-08-02',\n",
       "             '2022-08-03', '2022-08-04', '2022-08-05', '2022-08-06',\n",
       "             '2022-08-07', '2022-08-08',\n",
       "             ...\n",
       "             '2024-05-16', '2024-05-17', '2024-05-18', '2024-05-19',\n",
       "             '2024-05-20', '2024-05-21', '2024-05-22', '2024-05-23',\n",
       "             '2024-05-24', '2024-05-25'],\n",
       "            dtype='period[D]', length=666)"
      ]
     },
     "execution_count": 16,
     "metadata": {},
     "output_type": "execute_result"
    }
   ],
   "source": [
    "pi = pd.period_range('2022-7-30', periods=666)\n",
    "pi"
   ]
  },
  {
   "cell_type": "code",
   "execution_count": 17,
   "metadata": {},
   "outputs": [
    {
     "data": {
      "text/plain": [
       "2022-08-01   -0.523837\n",
       "2022-09-01    0.256401\n",
       "2022-10-01   -1.291272\n",
       "dtype: float64"
      ]
     },
     "execution_count": 17,
     "metadata": {},
     "output_type": "execute_result"
    }
   ],
   "source": [
    "import numpy as np\n",
    "\n",
    "dates = [pd.Timestamp('2022-08-01'), pd.Timestamp('2022-09-01'),\n",
    "         pd.Timestamp('2022-10-01')]  # 创建三个时间元素。\n",
    "ts = pd.Series(np.random.randn(3), dates)   # 创建索引值为随机数的 Series 对象。\n",
    "ts"
   ]
  },
  {
   "cell_type": "code",
   "execution_count": 18,
   "metadata": {},
   "outputs": [
    {
     "data": {
      "text/plain": [
       "2022-08    0.547171\n",
       "2022-09   -0.640314\n",
       "2022-10   -1.462632\n",
       "Freq: M, dtype: float64"
      ]
     },
     "execution_count": 18,
     "metadata": {},
     "output_type": "execute_result"
    }
   ],
   "source": [
    "periods = [pd.Period('2022-08'), pd.Period('2022-09'), pd.Period('2022-10')]\n",
    "ts = pd.Series(np.random.randn(3), periods)\n",
    "ts"
   ]
  },
  {
   "cell_type": "code",
   "execution_count": 24,
   "metadata": {},
   "outputs": [
    {
     "data": {
      "text/plain": [
       "2021-10-03    0.050215\n",
       "2021-10-10   -0.380202\n",
       "2021-10-17   -2.354095\n",
       "2021-10-24   -0.776603\n",
       "2021-10-31    2.473061\n",
       "2021-11-07    0.172723\n",
       "2021-11-14    0.730014\n",
       "2021-11-21    1.603010\n",
       "2021-11-28    1.465620\n",
       "2021-12-05    0.814812\n",
       "2021-12-12   -1.002106\n",
       "2021-12-19    0.384649\n",
       "2021-12-26    0.041269\n",
       "2022-01-02    1.701469\n",
       "2022-01-09   -0.918851\n",
       "2022-01-16   -2.072158\n",
       "2022-01-23   -0.336000\n",
       "2022-01-30    1.450842\n",
       "2022-02-06    0.249461\n",
       "2022-02-13   -1.070255\n",
       "2022-02-20   -1.588077\n",
       "2022-02-27   -0.148469\n",
       "2022-03-06   -1.043684\n",
       "2022-03-13   -0.660691\n",
       "2022-03-20   -2.592261\n",
       "2022-03-27    0.128708\n",
       "2022-04-03    0.617720\n",
       "2022-04-10   -0.154878\n",
       "2022-04-17   -1.365785\n",
       "2022-04-24    0.238171\n",
       "2022-05-01   -0.165012\n",
       "2022-05-08    0.446510\n",
       "2022-05-15   -0.969471\n",
       "2022-05-22   -0.963675\n",
       "2022-05-29    0.994837\n",
       "2022-06-05   -0.308899\n",
       "2022-06-12   -0.363919\n",
       "2022-06-19    0.305663\n",
       "2022-06-26   -0.700153\n",
       "2022-07-03    0.333084\n",
       "2022-07-10   -1.278742\n",
       "2022-07-17    0.474866\n",
       "2022-07-24   -0.165259\n",
       "2022-07-31   -0.562650\n",
       "2022-08-07   -0.829184\n",
       "2022-08-14   -0.404676\n",
       "2022-08-21    0.986366\n",
       "2022-08-28    0.148131\n",
       "2022-09-04   -0.395449\n",
       "2022-09-11   -0.694425\n",
       "2022-09-18    0.104181\n",
       "2022-09-25    0.052301\n",
       "Freq: W-SUN, dtype: float64"
      ]
     },
     "execution_count": 24,
     "metadata": {},
     "output_type": "execute_result"
    }
   ],
   "source": [
    "ts = pd.Series(np.random.randn(len(rng)), index=rng)\n",
    "ts"
   ]
  },
  {
   "cell_type": "code",
   "execution_count": 25,
   "metadata": {},
   "outputs": [
    {
     "data": {
      "text/plain": [
       "2021-10-03    0.050215\n",
       "2021-10-10   -0.380202\n",
       "2021-10-17   -2.354095\n",
       "2021-10-24   -0.776603\n",
       "2021-10-31    2.473061\n",
       "2021-11-07    0.172723\n",
       "2021-11-14    0.730014\n",
       "2021-11-21    1.603010\n",
       "2021-11-28    1.465620\n",
       "2021-12-05    0.814812\n",
       "Freq: W-SUN, dtype: float64"
      ]
     },
     "execution_count": 25,
     "metadata": {},
     "output_type": "execute_result"
    }
   ],
   "source": [
    "ts[:10]"
   ]
  },
  {
   "cell_type": "code",
   "execution_count": 26,
   "metadata": {},
   "outputs": [
    {
     "data": {
      "text/plain": [
       "2021-10-03    0.050215\n",
       "2021-10-17   -2.354095\n",
       "2021-10-31    2.473061\n",
       "2021-11-14    0.730014\n",
       "2021-11-28    1.465620\n",
       "2021-12-12   -1.002106\n",
       "2021-12-26    0.041269\n",
       "2022-01-09   -0.918851\n",
       "2022-01-23   -0.336000\n",
       "2022-02-06    0.249461\n",
       "2022-02-20   -1.588077\n",
       "2022-03-06   -1.043684\n",
       "2022-03-20   -2.592261\n",
       "2022-04-03    0.617720\n",
       "2022-04-17   -1.365785\n",
       "2022-05-01   -0.165012\n",
       "2022-05-15   -0.969471\n",
       "2022-05-29    0.994837\n",
       "2022-06-12   -0.363919\n",
       "2022-06-26   -0.700153\n",
       "2022-07-10   -1.278742\n",
       "2022-07-24   -0.165259\n",
       "2022-08-07   -0.829184\n",
       "2022-08-21    0.986366\n",
       "2022-09-04   -0.395449\n",
       "2022-09-18    0.104181\n",
       "Freq: 2W-SUN, dtype: float64"
      ]
     },
     "execution_count": 26,
     "metadata": {},
     "output_type": "execute_result"
    }
   ],
   "source": [
    "ts[::2]"
   ]
  },
  {
   "cell_type": "code",
   "execution_count": 27,
   "metadata": {},
   "outputs": [
    {
     "data": {
      "text/plain": [
       "2021-10-03    0.050215\n",
       "2021-10-17   -2.354095\n",
       "2021-11-14    0.730014\n",
       "dtype: float64"
      ]
     },
     "execution_count": 27,
     "metadata": {},
     "output_type": "execute_result"
    }
   ],
   "source": [
    "ts[[0, 2, 6]]"
   ]
  },
  {
   "cell_type": "code",
   "execution_count": 32,
   "metadata": {},
   "outputs": [
    {
     "data": {
      "text/plain": [
       "-1.2787422572808953"
      ]
     },
     "execution_count": 32,
     "metadata": {},
     "output_type": "execute_result"
    }
   ],
   "source": [
    "ts[\"2022-07-10\"]"
   ]
  },
  {
   "cell_type": "code",
   "execution_count": 33,
   "metadata": {},
   "outputs": [
    {
     "data": {
      "text/plain": [
       "2022-01-02    1.701469\n",
       "2022-01-09   -0.918851\n",
       "2022-01-16   -2.072158\n",
       "2022-01-23   -0.336000\n",
       "2022-01-30    1.450842\n",
       "2022-02-06    0.249461\n",
       "2022-02-13   -1.070255\n",
       "2022-02-20   -1.588077\n",
       "2022-02-27   -0.148469\n",
       "2022-03-06   -1.043684\n",
       "2022-03-13   -0.660691\n",
       "2022-03-20   -2.592261\n",
       "2022-03-27    0.128708\n",
       "2022-04-03    0.617720\n",
       "2022-04-10   -0.154878\n",
       "2022-04-17   -1.365785\n",
       "2022-04-24    0.238171\n",
       "2022-05-01   -0.165012\n",
       "2022-05-08    0.446510\n",
       "2022-05-15   -0.969471\n",
       "2022-05-22   -0.963675\n",
       "2022-05-29    0.994837\n",
       "2022-06-05   -0.308899\n",
       "2022-06-12   -0.363919\n",
       "2022-06-19    0.305663\n",
       "2022-06-26   -0.700153\n",
       "2022-07-03    0.333084\n",
       "2022-07-10   -1.278742\n",
       "2022-07-17    0.474866\n",
       "2022-07-24   -0.165259\n",
       "2022-07-31   -0.562650\n",
       "2022-08-07   -0.829184\n",
       "2022-08-14   -0.404676\n",
       "2022-08-21    0.986366\n",
       "2022-08-28    0.148131\n",
       "2022-09-04   -0.395449\n",
       "2022-09-11   -0.694425\n",
       "2022-09-18    0.104181\n",
       "2022-09-25    0.052301\n",
       "Freq: W-SUN, dtype: float64"
      ]
     },
     "execution_count": 33,
     "metadata": {},
     "output_type": "execute_result"
    }
   ],
   "source": [
    "ts[\"2022\"]"
   ]
  },
  {
   "cell_type": "code",
   "execution_count": 34,
   "metadata": {},
   "outputs": [
    {
     "data": {
      "text/plain": [
       "2022-09-04   -0.395449\n",
       "2022-09-11   -0.694425\n",
       "2022-09-18    0.104181\n",
       "2022-09-25    0.052301\n",
       "Freq: W-SUN, dtype: float64"
      ]
     },
     "execution_count": 34,
     "metadata": {},
     "output_type": "execute_result"
    }
   ],
   "source": [
    "ts[\"2022-09\"]"
   ]
  },
  {
   "cell_type": "code",
   "execution_count": 37,
   "metadata": {},
   "outputs": [
    {
     "data": {
      "text/plain": [
       "2021-11-28    1.465620\n",
       "2021-12-05    0.814812\n",
       "2021-12-12   -1.002106\n",
       "2021-12-19    0.384649\n",
       "2021-12-26    0.041269\n",
       "2022-01-02    1.701469\n",
       "2022-01-09   -0.918851\n",
       "2022-01-16   -2.072158\n",
       "2022-01-23   -0.336000\n",
       "2022-01-30    1.450842\n",
       "2022-02-06    0.249461\n",
       "2022-02-13   -1.070255\n",
       "2022-02-20   -1.588077\n",
       "2022-02-27   -0.148469\n",
       "2022-03-06   -1.043684\n",
       "2022-03-13   -0.660691\n",
       "2022-03-20   -2.592261\n",
       "2022-03-27    0.128708\n",
       "2022-04-03    0.617720\n",
       "2022-04-10   -0.154878\n",
       "2022-04-17   -1.365785\n",
       "2022-04-24    0.238171\n",
       "Freq: W-SUN, dtype: float64"
      ]
     },
     "execution_count": 37,
     "metadata": {},
     "output_type": "execute_result"
    }
   ],
   "source": [
    "ts.truncate(before='11/26/2021', after='4/29/2022')"
   ]
  },
  {
   "cell_type": "code",
   "execution_count": 38,
   "metadata": {},
   "outputs": [
    {
     "data": {
      "text/plain": [
       "2021-10-03    0.050215\n",
       "2021-10-10   -0.380202\n",
       "2021-10-17   -2.354095\n",
       "2021-10-24   -0.776603\n",
       "2021-10-31    2.473061\n",
       "Freq: W-SUN, dtype: float64"
      ]
     },
     "execution_count": 38,
     "metadata": {},
     "output_type": "execute_result"
    }
   ],
   "source": [
    "ts1 = ts[:5]  # 取前 5 条数据方便观察。\n",
    "ts1"
   ]
  },
  {
   "cell_type": "code",
   "execution_count": 39,
   "metadata": {},
   "outputs": [
    {
     "data": {
      "text/plain": [
       "2021-10-03         NaN\n",
       "2021-10-10    0.050215\n",
       "2021-10-17   -0.380202\n",
       "2021-10-24   -2.354095\n",
       "2021-10-31   -0.776603\n",
       "Freq: W-SUN, dtype: float64"
      ]
     },
     "execution_count": 39,
     "metadata": {},
     "output_type": "execute_result"
    }
   ],
   "source": [
    "ts1.shift(1)"
   ]
  },
  {
   "cell_type": "code",
   "execution_count": 40,
   "metadata": {},
   "outputs": [
    {
     "data": {
      "text/plain": [
       "2021-10-10    0.050215\n",
       "2021-10-17   -0.380202\n",
       "2021-10-24   -2.354095\n",
       "2021-10-31   -0.776603\n",
       "2021-11-07    2.473061\n",
       "Freq: W-SUN, dtype: float64"
      ]
     },
     "execution_count": 40,
     "metadata": {},
     "output_type": "execute_result"
    }
   ],
   "source": [
    "ts1.shift(1, freq='W')\n"
   ]
  },
  {
   "cell_type": "markdown",
   "metadata": {},
   "source": [
    "重采样可以通俗得理解为改变时间索引的个数，通过增大或减小相邻索引的时间间隔以达到减小或增加索引数量的效果，在 Pandas 中使用 resample() 函数。\n",
    "下采样：增大时间间隔，减少记录的数量。创建从 2022 年 8 月 1 日开始的日间隔索引的 Series 。"
   ]
  },
  {
   "cell_type": "code",
   "execution_count": 41,
   "metadata": {},
   "outputs": [
    {
     "data": {
      "text/plain": [
       "2022-08-01    49\n",
       "2022-08-02    32\n",
       "2022-08-03    41\n",
       "2022-08-04    10\n",
       "2022-08-05     1\n",
       "2022-08-06    19\n",
       "2022-08-07    11\n",
       "2022-08-08    25\n",
       "2022-08-09    10\n",
       "2022-08-10     4\n",
       "Freq: D, dtype: int32"
      ]
     },
     "execution_count": 41,
     "metadata": {},
     "output_type": "execute_result"
    }
   ],
   "source": [
    "rng = pd.date_range('8/1/2022', periods=10, freq='D')\n",
    "ts = pd.Series(np.random.randint(0, 50, len(rng)), index=rng)\n",
    "ts"
   ]
  },
  {
   "cell_type": "code",
   "execution_count": 42,
   "metadata": {},
   "outputs": [
    {
     "data": {
      "text/plain": [
       "2022-08-07    163\n",
       "2022-08-14     39\n",
       "Freq: W-SUN, dtype: int32"
      ]
     },
     "execution_count": 42,
     "metadata": {},
     "output_type": "execute_result"
    }
   ],
   "source": [
    "ts.resample('W').sum()"
   ]
  },
  {
   "cell_type": "code",
   "execution_count": 43,
   "metadata": {},
   "outputs": [
    {
     "data": {
      "text/plain": [
       "2022-08-07    23.285714\n",
       "2022-08-14    13.000000\n",
       "Freq: W-SUN, dtype: float64"
      ]
     },
     "execution_count": 43,
     "metadata": {},
     "output_type": "execute_result"
    }
   ],
   "source": [
    "ts.resample('W').mean()"
   ]
  },
  {
   "cell_type": "markdown",
   "metadata": {},
   "source": [
    "使用 ohlc() 函数对所用未被采样值进行统计。"
   ]
  },
  {
   "cell_type": "code",
   "execution_count": 44,
   "metadata": {},
   "outputs": [
    {
     "data": {
      "text/html": [
       "<div>\n",
       "<style scoped>\n",
       "    .dataframe tbody tr th:only-of-type {\n",
       "        vertical-align: middle;\n",
       "    }\n",
       "\n",
       "    .dataframe tbody tr th {\n",
       "        vertical-align: top;\n",
       "    }\n",
       "\n",
       "    .dataframe thead th {\n",
       "        text-align: right;\n",
       "    }\n",
       "</style>\n",
       "<table border=\"1\" class=\"dataframe\">\n",
       "  <thead>\n",
       "    <tr style=\"text-align: right;\">\n",
       "      <th></th>\n",
       "      <th>open</th>\n",
       "      <th>high</th>\n",
       "      <th>low</th>\n",
       "      <th>close</th>\n",
       "    </tr>\n",
       "  </thead>\n",
       "  <tbody>\n",
       "    <tr>\n",
       "      <th>2022-08-07</th>\n",
       "      <td>49</td>\n",
       "      <td>49</td>\n",
       "      <td>1</td>\n",
       "      <td>11</td>\n",
       "    </tr>\n",
       "    <tr>\n",
       "      <th>2022-08-14</th>\n",
       "      <td>25</td>\n",
       "      <td>25</td>\n",
       "      <td>4</td>\n",
       "      <td>4</td>\n",
       "    </tr>\n",
       "  </tbody>\n",
       "</table>\n",
       "</div>"
      ],
      "text/plain": [
       "            open  high  low  close\n",
       "2022-08-07    49    49    1     11\n",
       "2022-08-14    25    25    4      4"
      ]
     },
     "execution_count": 44,
     "metadata": {},
     "output_type": "execute_result"
    }
   ],
   "source": [
    "ts.resample('W').ohlc()"
   ]
  },
  {
   "cell_type": "markdown",
   "metadata": {},
   "source": [
    "上采样：减小时间间隔频率，增加记录的数量。\n",
    "原来间隔为日的索引列，间隔被缩小成 12 小时，增加采样点的值为空值。"
   ]
  },
  {
   "cell_type": "code",
   "execution_count": 45,
   "metadata": {},
   "outputs": [
    {
     "data": {
      "text/plain": [
       "2022-08-01 00:00:00    49.0\n",
       "2022-08-01 12:00:00     NaN\n",
       "2022-08-02 00:00:00    32.0\n",
       "2022-08-02 12:00:00     NaN\n",
       "2022-08-03 00:00:00    41.0\n",
       "2022-08-03 12:00:00     NaN\n",
       "2022-08-04 00:00:00    10.0\n",
       "2022-08-04 12:00:00     NaN\n",
       "2022-08-05 00:00:00     1.0\n",
       "2022-08-05 12:00:00     NaN\n",
       "2022-08-06 00:00:00    19.0\n",
       "2022-08-06 12:00:00     NaN\n",
       "2022-08-07 00:00:00    11.0\n",
       "2022-08-07 12:00:00     NaN\n",
       "2022-08-08 00:00:00    25.0\n",
       "2022-08-08 12:00:00     NaN\n",
       "2022-08-09 00:00:00    10.0\n",
       "2022-08-09 12:00:00     NaN\n",
       "2022-08-10 00:00:00     4.0\n",
       "Freq: 12H, dtype: float64"
      ]
     },
     "execution_count": 45,
     "metadata": {},
     "output_type": "execute_result"
    }
   ],
   "source": [
    "ts.resample('12H').asfreq()\n"
   ]
  },
  {
   "cell_type": "markdown",
   "metadata": {},
   "source": [
    "ffill() 函数可以将新增的索引值以相邻的前一条索引值进行填充。"
   ]
  },
  {
   "cell_type": "code",
   "execution_count": 46,
   "metadata": {},
   "outputs": [
    {
     "data": {
      "text/plain": [
       "2022-08-01 00:00:00    49\n",
       "2022-08-01 12:00:00    49\n",
       "2022-08-02 00:00:00    32\n",
       "2022-08-02 12:00:00    32\n",
       "2022-08-03 00:00:00    41\n",
       "2022-08-03 12:00:00    41\n",
       "2022-08-04 00:00:00    10\n",
       "2022-08-04 12:00:00    10\n",
       "2022-08-05 00:00:00     1\n",
       "2022-08-05 12:00:00     1\n",
       "2022-08-06 00:00:00    19\n",
       "2022-08-06 12:00:00    19\n",
       "2022-08-07 00:00:00    11\n",
       "2022-08-07 12:00:00    11\n",
       "2022-08-08 00:00:00    25\n",
       "2022-08-08 12:00:00    25\n",
       "2022-08-09 00:00:00    10\n",
       "2022-08-09 12:00:00    10\n",
       "2022-08-10 00:00:00     4\n",
       "Freq: 12H, dtype: int32"
      ]
     },
     "execution_count": 46,
     "metadata": {},
     "output_type": "execute_result"
    }
   ],
   "source": [
    "ts.resample('12H').ffill()"
   ]
  },
  {
   "cell_type": "code",
   "execution_count": 48,
   "metadata": {},
   "outputs": [
    {
     "data": {
      "text/plain": [
       "Timestamp('2022-08-01 10:01:01')"
      ]
     },
     "execution_count": 48,
     "metadata": {},
     "output_type": "execute_result"
    }
   ],
   "source": [
    "d = pd.Timestamp(2022, 8, 1, 10, 1, 1)\n",
    "d"
   ]
  },
  {
   "cell_type": "code",
   "execution_count": 50,
   "metadata": {},
   "outputs": [
    {
     "data": {
      "text/plain": [
       "Timestamp('2022-10-21 10:01:01')"
      ]
     },
     "execution_count": 50,
     "metadata": {},
     "output_type": "execute_result"
    }
   ],
   "source": [
    "from pandas.tseries.offsets import DateOffset\n",
    "# 向后移动二个月两十天。\n",
    "d + DateOffset(months=2, days=20)\n"
   ]
  },
  {
   "cell_type": "code",
   "execution_count": 51,
   "metadata": {},
   "outputs": [
    {
     "data": {
      "text/plain": [
       "Timestamp('2022-07-18 10:01:01')"
      ]
     },
     "execution_count": 51,
     "metadata": {},
     "output_type": "execute_result"
    }
   ],
   "source": [
    "from pandas.tseries.offsets import BDay\n",
    "# 向前移动 10 个工作日\n",
    "d - 10 * BDay()"
   ]
  },
  {
   "cell_type": "code",
   "execution_count": 52,
   "metadata": {},
   "outputs": [
    {
     "data": {
      "text/plain": [
       "Timestamp('2022-09-30 10:01:01')"
      ]
     },
     "execution_count": 52,
     "metadata": {},
     "output_type": "execute_result"
    }
   ],
   "source": [
    "from pandas.tseries.offsets import BMonthEnd\n",
    "# 向后移动二个月末\n",
    "d + 2*BMonthEnd()"
   ]
  },
  {
   "cell_type": "code",
   "execution_count": 53,
   "metadata": {},
   "outputs": [
    {
     "data": {
      "text/plain": [
       "Timestamp('2023-02-28 10:01:01')"
      ]
     },
     "execution_count": 53,
     "metadata": {},
     "output_type": "execute_result"
    }
   ],
   "source": [
    "from pandas.tseries.offsets import YearEnd\n",
    "\n",
    "d + YearEnd(month=2)"
   ]
  },
  {
   "cell_type": "code",
   "execution_count": 54,
   "metadata": {},
   "outputs": [
    {
     "data": {
      "text/plain": [
       "Timestamp('2022-07-29 10:01:01')"
      ]
     },
     "execution_count": 54,
     "metadata": {},
     "output_type": "execute_result"
    }
   ],
   "source": [
    "from pandas.tseries.offsets import Week\n",
    "\n",
    "d - Week(weekday=4)"
   ]
  },
  {
   "cell_type": "code",
   "execution_count": 55,
   "metadata": {},
   "outputs": [
    {
     "data": {
      "text/plain": [
       "Timestamp('2022-08-31 10:01:01')"
      ]
     },
     "execution_count": 55,
     "metadata": {},
     "output_type": "execute_result"
    }
   ],
   "source": [
    "# 。将时间移动到下一个月末\n",
    "offset = BMonthEnd()\n",
    "offset.rollforward(d)\n"
   ]
  },
  {
   "cell_type": "code",
   "execution_count": 56,
   "metadata": {},
   "outputs": [
    {
     "data": {
      "text/plain": [
       "Timestamp('2022-07-29 10:01:01')"
      ]
     },
     "execution_count": 56,
     "metadata": {},
     "output_type": "execute_result"
    }
   ],
   "source": [
    "# 将时间移动到上一个月末\n",
    "offset.rollback(d)"
   ]
  },
  {
   "cell_type": "code",
   "execution_count": 57,
   "metadata": {},
   "outputs": [
    {
     "data": {
      "text/plain": [
       "DatetimeIndex(['2022-08-01', '2022-08-02', '2022-08-03', '2022-08-04',\n",
       "               '2022-08-05', '2022-08-06', '2022-08-07', '2022-08-08',\n",
       "               '2022-08-09', '2022-08-10'],\n",
       "              dtype='datetime64[ns]', freq='D')"
      ]
     },
     "execution_count": 57,
     "metadata": {},
     "output_type": "execute_result"
    }
   ],
   "source": [
    "rng\n"
   ]
  },
  {
   "cell_type": "code",
   "execution_count": 58,
   "metadata": {},
   "outputs": [
    {
     "data": {
      "text/plain": [
       "DatetimeIndex(['2022-08-03', '2022-08-04', '2022-08-05', '2022-08-06',\n",
       "               '2022-08-07', '2022-08-08', '2022-08-09', '2022-08-10',\n",
       "               '2022-08-11', '2022-08-12'],\n",
       "              dtype='datetime64[ns]', freq=None)"
      ]
     },
     "execution_count": 58,
     "metadata": {},
     "output_type": "execute_result"
    }
   ],
   "source": [
    "rng + DateOffset(days=2)"
   ]
  },
  {
   "cell_type": "code",
   "execution_count": 59,
   "metadata": {},
   "outputs": [
    {
     "data": {
      "text/plain": [
       "DatetimeIndex(['2022-08-03', '2022-08-04', '2022-08-05', '2022-08-08',\n",
       "               '2022-08-09', '2022-08-09', '2022-08-09', '2022-08-10',\n",
       "               '2022-08-11', '2022-08-12'],\n",
       "              dtype='datetime64[ns]', freq=None)"
      ]
     },
     "execution_count": 59,
     "metadata": {},
     "output_type": "execute_result"
    }
   ],
   "source": [
    "rng + 2*BDay()"
   ]
  },
  {
   "cell_type": "code",
   "execution_count": 60,
   "metadata": {},
   "outputs": [
    {
     "data": {
      "text/plain": [
       "DatetimeIndex(['2022-08-01 00:15:00', '2022-08-02 00:15:00',\n",
       "               '2022-08-03 00:15:00', '2022-08-04 00:15:00',\n",
       "               '2022-08-05 00:15:00', '2022-08-06 00:15:00',\n",
       "               '2022-08-07 00:15:00', '2022-08-08 00:15:00',\n",
       "               '2022-08-09 00:15:00', '2022-08-10 00:15:00'],\n",
       "              dtype='datetime64[ns]', freq='D')"
      ]
     },
     "execution_count": 60,
     "metadata": {},
     "output_type": "execute_result"
    }
   ],
   "source": [
    "from pandas.tseries.offsets import Minute\n",
    "\n",
    "rng + Minute(15)\n"
   ]
  },
  {
   "cell_type": "markdown",
   "metadata": {},
   "source": [
    "下采样聚合\n",
    "下采样中的聚合是指下采样后，对未被采样到的点进行的一系列计算。\n",
    "创建 100 个日历日为时间索引的 DataFrame，将其以月频率下采样。"
   ]
  },
  {
   "cell_type": "markdown",
   "metadata": {},
   "source": []
  },
  {
   "cell_type": "code",
   "execution_count": 65,
   "metadata": {},
   "outputs": [
    {
     "data": {
      "text/plain": [
       "<pandas.core.resample.DatetimeIndexResampler object at 0x00000167C7CDE108>"
      ]
     },
     "execution_count": 65,
     "metadata": {},
     "output_type": "execute_result"
    }
   ],
   "source": [
    "df = pd.DataFrame(np.random.rand(666, 5),\n",
    "                  index=pd.date_range('8/1/2022', freq='W', periods=666),\n",
    "                  columns=['A', 'B', 'C', 'D', 'E'])\n",
    "r = df.resample('M')\n",
    "r"
   ]
  },
  {
   "cell_type": "code",
   "execution_count": 66,
   "metadata": {},
   "outputs": [
    {
     "data": {
      "text/html": [
       "<div>\n",
       "<style scoped>\n",
       "    .dataframe tbody tr th:only-of-type {\n",
       "        vertical-align: middle;\n",
       "    }\n",
       "\n",
       "    .dataframe tbody tr th {\n",
       "        vertical-align: top;\n",
       "    }\n",
       "\n",
       "    .dataframe thead th {\n",
       "        text-align: right;\n",
       "    }\n",
       "</style>\n",
       "<table border=\"1\" class=\"dataframe\">\n",
       "  <thead>\n",
       "    <tr style=\"text-align: right;\">\n",
       "      <th></th>\n",
       "      <th>A</th>\n",
       "      <th>B</th>\n",
       "      <th>C</th>\n",
       "      <th>D</th>\n",
       "      <th>E</th>\n",
       "    </tr>\n",
       "  </thead>\n",
       "  <tbody>\n",
       "    <tr>\n",
       "      <th>2022-08-31</th>\n",
       "      <td>1.405293</td>\n",
       "      <td>1.148069</td>\n",
       "      <td>2.904327</td>\n",
       "      <td>2.556748</td>\n",
       "      <td>3.274008</td>\n",
       "    </tr>\n",
       "    <tr>\n",
       "      <th>2022-09-30</th>\n",
       "      <td>1.690478</td>\n",
       "      <td>2.612679</td>\n",
       "      <td>1.611173</td>\n",
       "      <td>2.137552</td>\n",
       "      <td>2.899838</td>\n",
       "    </tr>\n",
       "    <tr>\n",
       "      <th>2022-10-31</th>\n",
       "      <td>1.654645</td>\n",
       "      <td>4.095151</td>\n",
       "      <td>3.675200</td>\n",
       "      <td>1.337641</td>\n",
       "      <td>2.398815</td>\n",
       "    </tr>\n",
       "    <tr>\n",
       "      <th>2022-11-30</th>\n",
       "      <td>2.730978</td>\n",
       "      <td>2.396328</td>\n",
       "      <td>2.546481</td>\n",
       "      <td>1.788219</td>\n",
       "      <td>1.492848</td>\n",
       "    </tr>\n",
       "    <tr>\n",
       "      <th>2022-12-31</th>\n",
       "      <td>2.352423</td>\n",
       "      <td>2.320834</td>\n",
       "      <td>2.344107</td>\n",
       "      <td>1.653121</td>\n",
       "      <td>2.653702</td>\n",
       "    </tr>\n",
       "    <tr>\n",
       "      <th>...</th>\n",
       "      <td>...</td>\n",
       "      <td>...</td>\n",
       "      <td>...</td>\n",
       "      <td>...</td>\n",
       "      <td>...</td>\n",
       "    </tr>\n",
       "    <tr>\n",
       "      <th>2035-01-31</th>\n",
       "      <td>3.154032</td>\n",
       "      <td>2.251359</td>\n",
       "      <td>0.839562</td>\n",
       "      <td>1.624649</td>\n",
       "      <td>2.213024</td>\n",
       "    </tr>\n",
       "    <tr>\n",
       "      <th>2035-02-28</th>\n",
       "      <td>1.228775</td>\n",
       "      <td>2.702454</td>\n",
       "      <td>1.987611</td>\n",
       "      <td>1.021498</td>\n",
       "      <td>1.646137</td>\n",
       "    </tr>\n",
       "    <tr>\n",
       "      <th>2035-03-31</th>\n",
       "      <td>0.709429</td>\n",
       "      <td>2.047637</td>\n",
       "      <td>1.970733</td>\n",
       "      <td>1.769543</td>\n",
       "      <td>2.606068</td>\n",
       "    </tr>\n",
       "    <tr>\n",
       "      <th>2035-04-30</th>\n",
       "      <td>2.440268</td>\n",
       "      <td>1.168959</td>\n",
       "      <td>2.188544</td>\n",
       "      <td>1.868824</td>\n",
       "      <td>3.132402</td>\n",
       "    </tr>\n",
       "    <tr>\n",
       "      <th>2035-05-31</th>\n",
       "      <td>0.055033</td>\n",
       "      <td>0.440022</td>\n",
       "      <td>0.269196</td>\n",
       "      <td>0.856271</td>\n",
       "      <td>0.900102</td>\n",
       "    </tr>\n",
       "  </tbody>\n",
       "</table>\n",
       "<p>154 rows × 5 columns</p>\n",
       "</div>"
      ],
      "text/plain": [
       "                   A         B         C         D         E\n",
       "2022-08-31  1.405293  1.148069  2.904327  2.556748  3.274008\n",
       "2022-09-30  1.690478  2.612679  1.611173  2.137552  2.899838\n",
       "2022-10-31  1.654645  4.095151  3.675200  1.337641  2.398815\n",
       "2022-11-30  2.730978  2.396328  2.546481  1.788219  1.492848\n",
       "2022-12-31  2.352423  2.320834  2.344107  1.653121  2.653702\n",
       "...              ...       ...       ...       ...       ...\n",
       "2035-01-31  3.154032  2.251359  0.839562  1.624649  2.213024\n",
       "2035-02-28  1.228775  2.702454  1.987611  1.021498  1.646137\n",
       "2035-03-31  0.709429  2.047637  1.970733  1.769543  2.606068\n",
       "2035-04-30  2.440268  1.168959  2.188544  1.868824  3.132402\n",
       "2035-05-31  0.055033  0.440022  0.269196  0.856271  0.900102\n",
       "\n",
       "[154 rows x 5 columns]"
      ]
     },
     "execution_count": 66,
     "metadata": {},
     "output_type": "execute_result"
    }
   ],
   "source": [
    "r.sum()"
   ]
  },
  {
   "cell_type": "code",
   "execution_count": 71,
   "metadata": {},
   "outputs": [
    {
     "data": {
      "text/html": [
       "<div>\n",
       "<style scoped>\n",
       "    .dataframe tbody tr th:only-of-type {\n",
       "        vertical-align: middle;\n",
       "    }\n",
       "\n",
       "    .dataframe tbody tr th {\n",
       "        vertical-align: top;\n",
       "    }\n",
       "\n",
       "    .dataframe thead th {\n",
       "        text-align: right;\n",
       "    }\n",
       "</style>\n",
       "<table border=\"1\" class=\"dataframe\">\n",
       "  <thead>\n",
       "    <tr style=\"text-align: right;\">\n",
       "      <th></th>\n",
       "      <th>C</th>\n",
       "      <th>E</th>\n",
       "    </tr>\n",
       "  </thead>\n",
       "  <tbody>\n",
       "    <tr>\n",
       "      <th>2022-08-31</th>\n",
       "      <td>0.726082</td>\n",
       "      <td>0.818502</td>\n",
       "    </tr>\n",
       "    <tr>\n",
       "      <th>2022-09-30</th>\n",
       "      <td>0.402793</td>\n",
       "      <td>0.724960</td>\n",
       "    </tr>\n",
       "    <tr>\n",
       "      <th>2022-10-31</th>\n",
       "      <td>0.735040</td>\n",
       "      <td>0.479763</td>\n",
       "    </tr>\n",
       "    <tr>\n",
       "      <th>2022-11-30</th>\n",
       "      <td>0.636620</td>\n",
       "      <td>0.373212</td>\n",
       "    </tr>\n",
       "    <tr>\n",
       "      <th>2022-12-31</th>\n",
       "      <td>0.586027</td>\n",
       "      <td>0.663425</td>\n",
       "    </tr>\n",
       "    <tr>\n",
       "      <th>...</th>\n",
       "      <td>...</td>\n",
       "      <td>...</td>\n",
       "    </tr>\n",
       "    <tr>\n",
       "      <th>2035-01-31</th>\n",
       "      <td>0.209891</td>\n",
       "      <td>0.553256</td>\n",
       "    </tr>\n",
       "    <tr>\n",
       "      <th>2035-02-28</th>\n",
       "      <td>0.496903</td>\n",
       "      <td>0.411534</td>\n",
       "    </tr>\n",
       "    <tr>\n",
       "      <th>2035-03-31</th>\n",
       "      <td>0.492683</td>\n",
       "      <td>0.651517</td>\n",
       "    </tr>\n",
       "    <tr>\n",
       "      <th>2035-04-30</th>\n",
       "      <td>0.437709</td>\n",
       "      <td>0.626480</td>\n",
       "    </tr>\n",
       "    <tr>\n",
       "      <th>2035-05-31</th>\n",
       "      <td>0.269196</td>\n",
       "      <td>0.900102</td>\n",
       "    </tr>\n",
       "  </tbody>\n",
       "</table>\n",
       "<p>154 rows × 2 columns</p>\n",
       "</div>"
      ],
      "text/plain": [
       "                   C         E\n",
       "2022-08-31  0.726082  0.818502\n",
       "2022-09-30  0.402793  0.724960\n",
       "2022-10-31  0.735040  0.479763\n",
       "2022-11-30  0.636620  0.373212\n",
       "2022-12-31  0.586027  0.663425\n",
       "...              ...       ...\n",
       "2035-01-31  0.209891  0.553256\n",
       "2035-02-28  0.496903  0.411534\n",
       "2035-03-31  0.492683  0.651517\n",
       "2035-04-30  0.437709  0.626480\n",
       "2035-05-31  0.269196  0.900102\n",
       "\n",
       "[154 rows x 2 columns]"
      ]
     },
     "execution_count": 71,
     "metadata": {},
     "output_type": "execute_result"
    }
   ],
   "source": [
    "r[['C', 'E']].mean()"
   ]
  },
  {
   "cell_type": "markdown",
   "metadata": {},
   "source": [
    "使用 agg() 同时进行不同的计算。对采样结果进行取和与取均值计算。"
   ]
  },
  {
   "cell_type": "code",
   "execution_count": 72,
   "metadata": {},
   "outputs": [
    {
     "data": {
      "text/html": [
       "<div>\n",
       "<style scoped>\n",
       "    .dataframe tbody tr th:only-of-type {\n",
       "        vertical-align: middle;\n",
       "    }\n",
       "\n",
       "    .dataframe tbody tr th {\n",
       "        vertical-align: top;\n",
       "    }\n",
       "\n",
       "    .dataframe thead tr th {\n",
       "        text-align: left;\n",
       "    }\n",
       "</style>\n",
       "<table border=\"1\" class=\"dataframe\">\n",
       "  <thead>\n",
       "    <tr>\n",
       "      <th></th>\n",
       "      <th colspan=\"2\" halign=\"left\">A</th>\n",
       "      <th colspan=\"2\" halign=\"left\">B</th>\n",
       "      <th colspan=\"2\" halign=\"left\">C</th>\n",
       "      <th colspan=\"2\" halign=\"left\">D</th>\n",
       "      <th colspan=\"2\" halign=\"left\">E</th>\n",
       "    </tr>\n",
       "    <tr>\n",
       "      <th></th>\n",
       "      <th>sum</th>\n",
       "      <th>mean</th>\n",
       "      <th>sum</th>\n",
       "      <th>mean</th>\n",
       "      <th>sum</th>\n",
       "      <th>mean</th>\n",
       "      <th>sum</th>\n",
       "      <th>mean</th>\n",
       "      <th>sum</th>\n",
       "      <th>mean</th>\n",
       "    </tr>\n",
       "  </thead>\n",
       "  <tbody>\n",
       "    <tr>\n",
       "      <th>2022-08-31</th>\n",
       "      <td>1.405293</td>\n",
       "      <td>0.351323</td>\n",
       "      <td>1.148069</td>\n",
       "      <td>0.287017</td>\n",
       "      <td>2.904327</td>\n",
       "      <td>0.726082</td>\n",
       "      <td>2.556748</td>\n",
       "      <td>0.639187</td>\n",
       "      <td>3.274008</td>\n",
       "      <td>0.818502</td>\n",
       "    </tr>\n",
       "    <tr>\n",
       "      <th>2022-09-30</th>\n",
       "      <td>1.690478</td>\n",
       "      <td>0.422619</td>\n",
       "      <td>2.612679</td>\n",
       "      <td>0.653170</td>\n",
       "      <td>1.611173</td>\n",
       "      <td>0.402793</td>\n",
       "      <td>2.137552</td>\n",
       "      <td>0.534388</td>\n",
       "      <td>2.899838</td>\n",
       "      <td>0.724960</td>\n",
       "    </tr>\n",
       "    <tr>\n",
       "      <th>2022-10-31</th>\n",
       "      <td>1.654645</td>\n",
       "      <td>0.330929</td>\n",
       "      <td>4.095151</td>\n",
       "      <td>0.819030</td>\n",
       "      <td>3.675200</td>\n",
       "      <td>0.735040</td>\n",
       "      <td>1.337641</td>\n",
       "      <td>0.267528</td>\n",
       "      <td>2.398815</td>\n",
       "      <td>0.479763</td>\n",
       "    </tr>\n",
       "    <tr>\n",
       "      <th>2022-11-30</th>\n",
       "      <td>2.730978</td>\n",
       "      <td>0.682745</td>\n",
       "      <td>2.396328</td>\n",
       "      <td>0.599082</td>\n",
       "      <td>2.546481</td>\n",
       "      <td>0.636620</td>\n",
       "      <td>1.788219</td>\n",
       "      <td>0.447055</td>\n",
       "      <td>1.492848</td>\n",
       "      <td>0.373212</td>\n",
       "    </tr>\n",
       "    <tr>\n",
       "      <th>2022-12-31</th>\n",
       "      <td>2.352423</td>\n",
       "      <td>0.588106</td>\n",
       "      <td>2.320834</td>\n",
       "      <td>0.580209</td>\n",
       "      <td>2.344107</td>\n",
       "      <td>0.586027</td>\n",
       "      <td>1.653121</td>\n",
       "      <td>0.413280</td>\n",
       "      <td>2.653702</td>\n",
       "      <td>0.663425</td>\n",
       "    </tr>\n",
       "    <tr>\n",
       "      <th>...</th>\n",
       "      <td>...</td>\n",
       "      <td>...</td>\n",
       "      <td>...</td>\n",
       "      <td>...</td>\n",
       "      <td>...</td>\n",
       "      <td>...</td>\n",
       "      <td>...</td>\n",
       "      <td>...</td>\n",
       "      <td>...</td>\n",
       "      <td>...</td>\n",
       "    </tr>\n",
       "    <tr>\n",
       "      <th>2035-01-31</th>\n",
       "      <td>3.154032</td>\n",
       "      <td>0.788508</td>\n",
       "      <td>2.251359</td>\n",
       "      <td>0.562840</td>\n",
       "      <td>0.839562</td>\n",
       "      <td>0.209891</td>\n",
       "      <td>1.624649</td>\n",
       "      <td>0.406162</td>\n",
       "      <td>2.213024</td>\n",
       "      <td>0.553256</td>\n",
       "    </tr>\n",
       "    <tr>\n",
       "      <th>2035-02-28</th>\n",
       "      <td>1.228775</td>\n",
       "      <td>0.307194</td>\n",
       "      <td>2.702454</td>\n",
       "      <td>0.675613</td>\n",
       "      <td>1.987611</td>\n",
       "      <td>0.496903</td>\n",
       "      <td>1.021498</td>\n",
       "      <td>0.255374</td>\n",
       "      <td>1.646137</td>\n",
       "      <td>0.411534</td>\n",
       "    </tr>\n",
       "    <tr>\n",
       "      <th>2035-03-31</th>\n",
       "      <td>0.709429</td>\n",
       "      <td>0.177357</td>\n",
       "      <td>2.047637</td>\n",
       "      <td>0.511909</td>\n",
       "      <td>1.970733</td>\n",
       "      <td>0.492683</td>\n",
       "      <td>1.769543</td>\n",
       "      <td>0.442386</td>\n",
       "      <td>2.606068</td>\n",
       "      <td>0.651517</td>\n",
       "    </tr>\n",
       "    <tr>\n",
       "      <th>2035-04-30</th>\n",
       "      <td>2.440268</td>\n",
       "      <td>0.488054</td>\n",
       "      <td>1.168959</td>\n",
       "      <td>0.233792</td>\n",
       "      <td>2.188544</td>\n",
       "      <td>0.437709</td>\n",
       "      <td>1.868824</td>\n",
       "      <td>0.373765</td>\n",
       "      <td>3.132402</td>\n",
       "      <td>0.626480</td>\n",
       "    </tr>\n",
       "    <tr>\n",
       "      <th>2035-05-31</th>\n",
       "      <td>0.055033</td>\n",
       "      <td>0.055033</td>\n",
       "      <td>0.440022</td>\n",
       "      <td>0.440022</td>\n",
       "      <td>0.269196</td>\n",
       "      <td>0.269196</td>\n",
       "      <td>0.856271</td>\n",
       "      <td>0.856271</td>\n",
       "      <td>0.900102</td>\n",
       "      <td>0.900102</td>\n",
       "    </tr>\n",
       "  </tbody>\n",
       "</table>\n",
       "<p>154 rows × 10 columns</p>\n",
       "</div>"
      ],
      "text/plain": [
       "                   A                   B                   C            \\\n",
       "                 sum      mean       sum      mean       sum      mean   \n",
       "2022-08-31  1.405293  0.351323  1.148069  0.287017  2.904327  0.726082   \n",
       "2022-09-30  1.690478  0.422619  2.612679  0.653170  1.611173  0.402793   \n",
       "2022-10-31  1.654645  0.330929  4.095151  0.819030  3.675200  0.735040   \n",
       "2022-11-30  2.730978  0.682745  2.396328  0.599082  2.546481  0.636620   \n",
       "2022-12-31  2.352423  0.588106  2.320834  0.580209  2.344107  0.586027   \n",
       "...              ...       ...       ...       ...       ...       ...   \n",
       "2035-01-31  3.154032  0.788508  2.251359  0.562840  0.839562  0.209891   \n",
       "2035-02-28  1.228775  0.307194  2.702454  0.675613  1.987611  0.496903   \n",
       "2035-03-31  0.709429  0.177357  2.047637  0.511909  1.970733  0.492683   \n",
       "2035-04-30  2.440268  0.488054  1.168959  0.233792  2.188544  0.437709   \n",
       "2035-05-31  0.055033  0.055033  0.440022  0.440022  0.269196  0.269196   \n",
       "\n",
       "                   D                   E            \n",
       "                 sum      mean       sum      mean  \n",
       "2022-08-31  2.556748  0.639187  3.274008  0.818502  \n",
       "2022-09-30  2.137552  0.534388  2.899838  0.724960  \n",
       "2022-10-31  1.337641  0.267528  2.398815  0.479763  \n",
       "2022-11-30  1.788219  0.447055  1.492848  0.373212  \n",
       "2022-12-31  1.653121  0.413280  2.653702  0.663425  \n",
       "...              ...       ...       ...       ...  \n",
       "2035-01-31  1.624649  0.406162  2.213024  0.553256  \n",
       "2035-02-28  1.021498  0.255374  1.646137  0.411534  \n",
       "2035-03-31  1.769543  0.442386  2.606068  0.651517  \n",
       "2035-04-30  1.868824  0.373765  3.132402  0.626480  \n",
       "2035-05-31  0.856271  0.856271  0.900102  0.900102  \n",
       "\n",
       "[154 rows x 10 columns]"
      ]
     },
     "execution_count": 72,
     "metadata": {},
     "output_type": "execute_result"
    }
   ],
   "source": [
    "r.agg([np.sum, np.mean])"
   ]
  },
  {
   "cell_type": "code",
   "execution_count": 73,
   "metadata": {},
   "outputs": [
    {
     "data": {
      "text/html": [
       "<div>\n",
       "<style scoped>\n",
       "    .dataframe tbody tr th:only-of-type {\n",
       "        vertical-align: middle;\n",
       "    }\n",
       "\n",
       "    .dataframe tbody tr th {\n",
       "        vertical-align: top;\n",
       "    }\n",
       "\n",
       "    .dataframe thead tr th {\n",
       "        text-align: left;\n",
       "    }\n",
       "</style>\n",
       "<table border=\"1\" class=\"dataframe\">\n",
       "  <thead>\n",
       "    <tr>\n",
       "      <th></th>\n",
       "      <th colspan=\"3\" halign=\"left\">A</th>\n",
       "      <th colspan=\"3\" halign=\"left\">B</th>\n",
       "      <th colspan=\"3\" halign=\"left\">C</th>\n",
       "      <th colspan=\"3\" halign=\"left\">D</th>\n",
       "      <th colspan=\"3\" halign=\"left\">E</th>\n",
       "    </tr>\n",
       "    <tr>\n",
       "      <th></th>\n",
       "      <th>sum</th>\n",
       "      <th>mean</th>\n",
       "      <th>std</th>\n",
       "      <th>sum</th>\n",
       "      <th>mean</th>\n",
       "      <th>std</th>\n",
       "      <th>sum</th>\n",
       "      <th>mean</th>\n",
       "      <th>std</th>\n",
       "      <th>sum</th>\n",
       "      <th>mean</th>\n",
       "      <th>std</th>\n",
       "      <th>sum</th>\n",
       "      <th>mean</th>\n",
       "      <th>std</th>\n",
       "    </tr>\n",
       "  </thead>\n",
       "  <tbody>\n",
       "    <tr>\n",
       "      <th>2022-08-31</th>\n",
       "      <td>1.405293</td>\n",
       "      <td>0.351323</td>\n",
       "      <td>0.208644</td>\n",
       "      <td>1.148069</td>\n",
       "      <td>0.287017</td>\n",
       "      <td>0.108599</td>\n",
       "      <td>2.904327</td>\n",
       "      <td>0.726082</td>\n",
       "      <td>0.273487</td>\n",
       "      <td>2.556748</td>\n",
       "      <td>0.639187</td>\n",
       "      <td>0.260514</td>\n",
       "      <td>3.274008</td>\n",
       "      <td>0.818502</td>\n",
       "      <td>0.074254</td>\n",
       "    </tr>\n",
       "    <tr>\n",
       "      <th>2022-09-30</th>\n",
       "      <td>1.690478</td>\n",
       "      <td>0.422619</td>\n",
       "      <td>0.179063</td>\n",
       "      <td>2.612679</td>\n",
       "      <td>0.653170</td>\n",
       "      <td>0.151654</td>\n",
       "      <td>1.611173</td>\n",
       "      <td>0.402793</td>\n",
       "      <td>0.348654</td>\n",
       "      <td>2.137552</td>\n",
       "      <td>0.534388</td>\n",
       "      <td>0.412444</td>\n",
       "      <td>2.899838</td>\n",
       "      <td>0.724960</td>\n",
       "      <td>0.140870</td>\n",
       "    </tr>\n",
       "    <tr>\n",
       "      <th>2022-10-31</th>\n",
       "      <td>1.654645</td>\n",
       "      <td>0.330929</td>\n",
       "      <td>0.365321</td>\n",
       "      <td>4.095151</td>\n",
       "      <td>0.819030</td>\n",
       "      <td>0.116548</td>\n",
       "      <td>3.675200</td>\n",
       "      <td>0.735040</td>\n",
       "      <td>0.241810</td>\n",
       "      <td>1.337641</td>\n",
       "      <td>0.267528</td>\n",
       "      <td>0.396609</td>\n",
       "      <td>2.398815</td>\n",
       "      <td>0.479763</td>\n",
       "      <td>0.319306</td>\n",
       "    </tr>\n",
       "    <tr>\n",
       "      <th>2022-11-30</th>\n",
       "      <td>2.730978</td>\n",
       "      <td>0.682745</td>\n",
       "      <td>0.265593</td>\n",
       "      <td>2.396328</td>\n",
       "      <td>0.599082</td>\n",
       "      <td>0.375658</td>\n",
       "      <td>2.546481</td>\n",
       "      <td>0.636620</td>\n",
       "      <td>0.210143</td>\n",
       "      <td>1.788219</td>\n",
       "      <td>0.447055</td>\n",
       "      <td>0.261503</td>\n",
       "      <td>1.492848</td>\n",
       "      <td>0.373212</td>\n",
       "      <td>0.210427</td>\n",
       "    </tr>\n",
       "    <tr>\n",
       "      <th>2022-12-31</th>\n",
       "      <td>2.352423</td>\n",
       "      <td>0.588106</td>\n",
       "      <td>0.259566</td>\n",
       "      <td>2.320834</td>\n",
       "      <td>0.580209</td>\n",
       "      <td>0.294786</td>\n",
       "      <td>2.344107</td>\n",
       "      <td>0.586027</td>\n",
       "      <td>0.269095</td>\n",
       "      <td>1.653121</td>\n",
       "      <td>0.413280</td>\n",
       "      <td>0.304629</td>\n",
       "      <td>2.653702</td>\n",
       "      <td>0.663425</td>\n",
       "      <td>0.407522</td>\n",
       "    </tr>\n",
       "    <tr>\n",
       "      <th>...</th>\n",
       "      <td>...</td>\n",
       "      <td>...</td>\n",
       "      <td>...</td>\n",
       "      <td>...</td>\n",
       "      <td>...</td>\n",
       "      <td>...</td>\n",
       "      <td>...</td>\n",
       "      <td>...</td>\n",
       "      <td>...</td>\n",
       "      <td>...</td>\n",
       "      <td>...</td>\n",
       "      <td>...</td>\n",
       "      <td>...</td>\n",
       "      <td>...</td>\n",
       "      <td>...</td>\n",
       "    </tr>\n",
       "    <tr>\n",
       "      <th>2035-01-31</th>\n",
       "      <td>3.154032</td>\n",
       "      <td>0.788508</td>\n",
       "      <td>0.093845</td>\n",
       "      <td>2.251359</td>\n",
       "      <td>0.562840</td>\n",
       "      <td>0.404662</td>\n",
       "      <td>0.839562</td>\n",
       "      <td>0.209891</td>\n",
       "      <td>0.228958</td>\n",
       "      <td>1.624649</td>\n",
       "      <td>0.406162</td>\n",
       "      <td>0.282175</td>\n",
       "      <td>2.213024</td>\n",
       "      <td>0.553256</td>\n",
       "      <td>0.295082</td>\n",
       "    </tr>\n",
       "    <tr>\n",
       "      <th>2035-02-28</th>\n",
       "      <td>1.228775</td>\n",
       "      <td>0.307194</td>\n",
       "      <td>0.157065</td>\n",
       "      <td>2.702454</td>\n",
       "      <td>0.675613</td>\n",
       "      <td>0.144689</td>\n",
       "      <td>1.987611</td>\n",
       "      <td>0.496903</td>\n",
       "      <td>0.450169</td>\n",
       "      <td>1.021498</td>\n",
       "      <td>0.255374</td>\n",
       "      <td>0.128211</td>\n",
       "      <td>1.646137</td>\n",
       "      <td>0.411534</td>\n",
       "      <td>0.199133</td>\n",
       "    </tr>\n",
       "    <tr>\n",
       "      <th>2035-03-31</th>\n",
       "      <td>0.709429</td>\n",
       "      <td>0.177357</td>\n",
       "      <td>0.204912</td>\n",
       "      <td>2.047637</td>\n",
       "      <td>0.511909</td>\n",
       "      <td>0.279584</td>\n",
       "      <td>1.970733</td>\n",
       "      <td>0.492683</td>\n",
       "      <td>0.318458</td>\n",
       "      <td>1.769543</td>\n",
       "      <td>0.442386</td>\n",
       "      <td>0.283648</td>\n",
       "      <td>2.606068</td>\n",
       "      <td>0.651517</td>\n",
       "      <td>0.251568</td>\n",
       "    </tr>\n",
       "    <tr>\n",
       "      <th>2035-04-30</th>\n",
       "      <td>2.440268</td>\n",
       "      <td>0.488054</td>\n",
       "      <td>0.201906</td>\n",
       "      <td>1.168959</td>\n",
       "      <td>0.233792</td>\n",
       "      <td>0.172747</td>\n",
       "      <td>2.188544</td>\n",
       "      <td>0.437709</td>\n",
       "      <td>0.145641</td>\n",
       "      <td>1.868824</td>\n",
       "      <td>0.373765</td>\n",
       "      <td>0.355121</td>\n",
       "      <td>3.132402</td>\n",
       "      <td>0.626480</td>\n",
       "      <td>0.299125</td>\n",
       "    </tr>\n",
       "    <tr>\n",
       "      <th>2035-05-31</th>\n",
       "      <td>0.055033</td>\n",
       "      <td>0.055033</td>\n",
       "      <td>NaN</td>\n",
       "      <td>0.440022</td>\n",
       "      <td>0.440022</td>\n",
       "      <td>NaN</td>\n",
       "      <td>0.269196</td>\n",
       "      <td>0.269196</td>\n",
       "      <td>NaN</td>\n",
       "      <td>0.856271</td>\n",
       "      <td>0.856271</td>\n",
       "      <td>NaN</td>\n",
       "      <td>0.900102</td>\n",
       "      <td>0.900102</td>\n",
       "      <td>NaN</td>\n",
       "    </tr>\n",
       "  </tbody>\n",
       "</table>\n",
       "<p>154 rows × 15 columns</p>\n",
       "</div>"
      ],
      "text/plain": [
       "                   A                             B                      \\\n",
       "                 sum      mean       std       sum      mean       std   \n",
       "2022-08-31  1.405293  0.351323  0.208644  1.148069  0.287017  0.108599   \n",
       "2022-09-30  1.690478  0.422619  0.179063  2.612679  0.653170  0.151654   \n",
       "2022-10-31  1.654645  0.330929  0.365321  4.095151  0.819030  0.116548   \n",
       "2022-11-30  2.730978  0.682745  0.265593  2.396328  0.599082  0.375658   \n",
       "2022-12-31  2.352423  0.588106  0.259566  2.320834  0.580209  0.294786   \n",
       "...              ...       ...       ...       ...       ...       ...   \n",
       "2035-01-31  3.154032  0.788508  0.093845  2.251359  0.562840  0.404662   \n",
       "2035-02-28  1.228775  0.307194  0.157065  2.702454  0.675613  0.144689   \n",
       "2035-03-31  0.709429  0.177357  0.204912  2.047637  0.511909  0.279584   \n",
       "2035-04-30  2.440268  0.488054  0.201906  1.168959  0.233792  0.172747   \n",
       "2035-05-31  0.055033  0.055033       NaN  0.440022  0.440022       NaN   \n",
       "\n",
       "                   C                             D                      \\\n",
       "                 sum      mean       std       sum      mean       std   \n",
       "2022-08-31  2.904327  0.726082  0.273487  2.556748  0.639187  0.260514   \n",
       "2022-09-30  1.611173  0.402793  0.348654  2.137552  0.534388  0.412444   \n",
       "2022-10-31  3.675200  0.735040  0.241810  1.337641  0.267528  0.396609   \n",
       "2022-11-30  2.546481  0.636620  0.210143  1.788219  0.447055  0.261503   \n",
       "2022-12-31  2.344107  0.586027  0.269095  1.653121  0.413280  0.304629   \n",
       "...              ...       ...       ...       ...       ...       ...   \n",
       "2035-01-31  0.839562  0.209891  0.228958  1.624649  0.406162  0.282175   \n",
       "2035-02-28  1.987611  0.496903  0.450169  1.021498  0.255374  0.128211   \n",
       "2035-03-31  1.970733  0.492683  0.318458  1.769543  0.442386  0.283648   \n",
       "2035-04-30  2.188544  0.437709  0.145641  1.868824  0.373765  0.355121   \n",
       "2035-05-31  0.269196  0.269196       NaN  0.856271  0.856271       NaN   \n",
       "\n",
       "                   E                      \n",
       "                 sum      mean       std  \n",
       "2022-08-31  3.274008  0.818502  0.074254  \n",
       "2022-09-30  2.899838  0.724960  0.140870  \n",
       "2022-10-31  2.398815  0.479763  0.319306  \n",
       "2022-11-30  1.492848  0.373212  0.210427  \n",
       "2022-12-31  2.653702  0.663425  0.407522  \n",
       "...              ...       ...       ...  \n",
       "2035-01-31  2.213024  0.553256  0.295082  \n",
       "2035-02-28  1.646137  0.411534  0.199133  \n",
       "2035-03-31  2.606068  0.651517  0.251568  \n",
       "2035-04-30  3.132402  0.626480  0.299125  \n",
       "2035-05-31  0.900102  0.900102       NaN  \n",
       "\n",
       "[154 rows x 15 columns]"
      ]
     },
     "execution_count": 73,
     "metadata": {},
     "output_type": "execute_result"
    }
   ],
   "source": [
    "# r['A'].agg([np.sum, np.mean, np.std])\n",
    "# std：标准差\n",
    "r.agg([np.sum, np.mean, np.std])"
   ]
  },
  {
   "cell_type": "code",
   "execution_count": null,
   "metadata": {},
   "outputs": [],
   "source": []
  },
  {
   "cell_type": "code",
   "execution_count": null,
   "metadata": {},
   "outputs": [],
   "source": []
  },
  {
   "cell_type": "code",
   "execution_count": null,
   "metadata": {},
   "outputs": [],
   "source": []
  },
  {
   "cell_type": "code",
   "execution_count": null,
   "metadata": {},
   "outputs": [],
   "source": []
  },
  {
   "cell_type": "code",
   "execution_count": null,
   "metadata": {},
   "outputs": [],
   "source": []
  },
  {
   "cell_type": "code",
   "execution_count": null,
   "metadata": {},
   "outputs": [],
   "source": []
  },
  {
   "cell_type": "code",
   "execution_count": null,
   "metadata": {},
   "outputs": [],
   "source": []
  },
  {
   "cell_type": "code",
   "execution_count": null,
   "metadata": {},
   "outputs": [],
   "source": []
  },
  {
   "cell_type": "code",
   "execution_count": null,
   "metadata": {},
   "outputs": [],
   "source": []
  }
 ],
 "metadata": {
  "kernelspec": {
   "display_name": "Python 3.7.10 ('base')",
   "language": "python",
   "name": "python3"
  },
  "language_info": {
   "codemirror_mode": {
    "name": "ipython",
    "version": 3
   },
   "file_extension": ".py",
   "mimetype": "text/x-python",
   "name": "python",
   "nbconvert_exporter": "python",
   "pygments_lexer": "ipython3",
   "version": "3.7.10"
  },
  "orig_nbformat": 4,
  "vscode": {
   "interpreter": {
    "hash": "820d776940a02930c69820a8cec178404e4e9e60b6116e2717a21913b50566a0"
   }
  }
 },
 "nbformat": 4,
 "nbformat_minor": 2
}

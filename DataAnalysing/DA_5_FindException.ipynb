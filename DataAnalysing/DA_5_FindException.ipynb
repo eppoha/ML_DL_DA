{
 "cells": [
  {
   "cell_type": "code",
   "execution_count": null,
   "metadata": {},
   "outputs": [],
   "source": []
  }
 ],
 "metadata": {
  "kernelspec": {
   "display_name": "Python 3.9.7 64-bit",
   "language": "python",
   "name": "python3"
  },
  "language_info": {
   "name": "python",
   "version": "3.9.7"
  },
  "orig_nbformat": 4,
  "vscode": {
   "interpreter": {
    "hash": "5454c2acc74d20840704f95be45d6c5f6cda957f73a363ffa059b8adbe38424c"
   }
  }
 },
 "nbformat": 4,
 "nbformat_minor": 2
}
